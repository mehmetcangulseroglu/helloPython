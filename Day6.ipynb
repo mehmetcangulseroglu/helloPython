{
 "cells": [
  {
   "cell_type": "markdown",
   "id": "bf1fe738-680d-46c3-96c4-7413c85b9a41",
   "metadata": {},
   "source": [
    "##  kontroller ve döngüler"
   ]
  },
  {
   "cell_type": "code",
   "execution_count": 30,
   "id": "510db82e-c317-4b3f-af96-0992eb2782d1",
   "metadata": {},
   "outputs": [],
   "source": [
    "# genel bilgiler"
   ]
  },
  {
   "cell_type": "code",
   "execution_count": 7,
   "id": "7a8d3522-bdad-4d0d-aac8-02997de20478",
   "metadata": {},
   "outputs": [],
   "source": [
    "# == ,!= , and(ve) , or(veya)"
   ]
  },
  {
   "cell_type": "code",
   "execution_count": 9,
   "id": "9ee867eb-53c5-4abc-9fd9-46fd900bb835",
   "metadata": {},
   "outputs": [
    {
     "data": {
      "text/plain": [
       "False"
      ]
     },
     "execution_count": 9,
     "metadata": {},
     "output_type": "execute_result"
    }
   ],
   "source": [
    "# not tersine çevirir\n",
    "#örneğin\n",
    "not 1==1#normalde 1 1 e eşit yani true ama başında not var false döndürecek"
   ]
  },
  {
   "cell_type": "code",
   "execution_count": 26,
   "id": "2ad23baf-d6ed-4519-8f69-864b3bd71f46",
   "metadata": {},
   "outputs": [
    {
     "data": {
      "text/plain": [
       "True"
      ]
     },
     "execution_count": 26,
     "metadata": {},
     "output_type": "execute_result"
    }
   ],
   "source": [
    "#in / not in kullanımı bunları setlerede listelerde vs genelde sorgulamak amaçlı kullanabilirsin \n",
    "#fakat sözlüklerde kullanamazsın çünkü sözlüklerde key value olarak tutuluyordu ancak direkt olmasa da\n",
    "#şöyle tutabilirsin\n",
    "myDictionary={\"a\":10,\"b\":20}\n",
    "\"b\"in myDictionary.keys() #dersen keys veya value diyip onlar içinde arar bunda sıkıntı yok"
   ]
  },
  {
   "cell_type": "code",
   "execution_count": 28,
   "id": "4e75f1fa-3f4d-47b1-9ad7-3ead759b717c",
   "metadata": {},
   "outputs": [
    {
     "data": {
      "text/plain": [
       "True"
      ]
     },
     "execution_count": 28,
     "metadata": {},
     "output_type": "execute_result"
    }
   ],
   "source": [
    "10 in [10,20,30]"
   ]
  },
  {
   "cell_type": "code",
   "execution_count": 34,
   "id": "20df93ff-bf45-4bde-99f6-32a16b596554",
   "metadata": {
    "scrolled": true
   },
   "outputs": [
    {
     "data": {
      "text/plain": [
       "True"
      ]
     },
     "execution_count": 34,
     "metadata": {},
     "output_type": "execute_result"
    }
   ],
   "source": [
    "5 not in [10,20,30]#normalde 5 listede yok false ama not olduğu için true döndürecek"
   ]
  },
  {
   "cell_type": "markdown",
   "id": "1b225bf2-cdd8-423f-afe8-f75e22395328",
   "metadata": {},
   "source": [
    "## if kontrolleri"
   ]
  },
  {
   "cell_type": "code",
   "execution_count": 48,
   "id": "f5dd9353-a975-44ff-a1d4-a34e46303a44",
   "metadata": {},
   "outputs": [],
   "source": [
    "#if syntax\n",
    "#if sorgu:\n",
    "    #enter dersin bir tab boşluk bırakır ilgili kod bloğunu yazarsın\n",
    "    #bu boşluk pythonda önemli buna indentation denir\n",
    "    "
   ]
  },
  {
   "cell_type": "code",
   "execution_count": 50,
   "id": "2053749d-a238-437c-8e6e-46d1ec2b9727",
   "metadata": {},
   "outputs": [],
   "source": [
    "mySuperHero=\"batman\""
   ]
  },
  {
   "cell_type": "code",
   "execution_count": 54,
   "id": "43fd5221-e66d-4794-a55c-b0749d5283d7",
   "metadata": {},
   "outputs": [
    {
     "name": "stdout",
     "output_type": "stream",
     "text": [
      "benim süper kahramanım batmandir\n"
     ]
    }
   ],
   "source": [
    "#örnek if syntax\n",
    "if mySuperHero==\"batman\":\n",
    "    print(\"benim süper kahramanım batmandir\")\n",
    "#artık bu kısım bu boşluk itibarı ile if e ait değildir burdan itibaren kod çalışır yine"
   ]
  },
  {
   "cell_type": "code",
   "execution_count": 64,
   "id": "2ad7ddb2-ceb7-4f8e-9bf2-a6dd888ac328",
   "metadata": {},
   "outputs": [],
   "source": [
    "#pythonda else if elif tir ve if olduktan sonra istediğin sayıda elif yazabilirsin"
   ]
  },
  {
   "cell_type": "code",
   "execution_count": 68,
   "id": "edaa0478-d676-4f4f-857f-cd50998d7cc5",
   "metadata": {},
   "outputs": [],
   "source": [
    "#pythonda en son ihtimali ifade eden koşul elsedir burda koşul yazılmaz direkt else: yazılır çünkü zaten bu son ihtimaldir"
   ]
  },
  {
   "cell_type": "code",
   "execution_count": 62,
   "id": "9bf6f16f-6e94-413c-ae80-fb0441e8dec6",
   "metadata": {},
   "outputs": [
    {
     "name": "stdin",
     "output_type": "stream",
     "text": [
      "kahraman karakterinizi girin batman\n"
     ]
    }
   ],
   "source": [
    "myHero=input(\"kahraman karakterinizi girin\")"
   ]
  },
  {
   "cell_type": "code",
   "execution_count": 72,
   "id": "fc6abf2f-278f-4eda-9187-53f3f50de78c",
   "metadata": {},
   "outputs": [
    {
     "name": "stdout",
     "output_type": "stream",
     "text": [
      "girilen kahramanlar uyuşmadı\n"
     ]
    }
   ],
   "source": [
    "if myHero==\"superman\":\n",
    "    print(\"kahraman supermandir\")\n",
    "elif myHero==\"batman\" and myHero==\"blackman\":\n",
    "    print(\"kahraman batmandir\")\n",
    "else:\n",
    "    print(\"girilen kahramanlar uyuşmadı\")"
   ]
  },
  {
   "cell_type": "code",
   "execution_count": 82,
   "id": "55ead892-ec88-4bc1-b68e-0d1b46f7aefd",
   "metadata": {},
   "outputs": [],
   "source": [
    "#listelerle bir örnek yapalım"
   ]
  },
  {
   "cell_type": "code",
   "execution_count": 76,
   "id": "e4fc71a0-afbe-4d6a-82e5-884e741e4022",
   "metadata": {},
   "outputs": [
    {
     "name": "stdin",
     "output_type": "stream",
     "text": [
      "kahraman girin: spider man\n"
     ]
    }
   ],
   "source": [
    "superHero=input(\"kahraman girin:\")"
   ]
  },
  {
   "cell_type": "code",
   "execution_count": 86,
   "id": "1f66df66-1415-40b4-931e-ded5cf2f831d",
   "metadata": {},
   "outputs": [],
   "source": [
    "superHeroList=[\"batman\",\"superman\",\"black widow\"]"
   ]
  },
  {
   "cell_type": "code",
   "execution_count": 88,
   "id": "c422c2f1-29e8-4f1b-bcdd-e8bd823e845d",
   "metadata": {},
   "outputs": [
    {
     "name": "stdout",
     "output_type": "stream",
     "text": [
      ":(\n"
     ]
    }
   ],
   "source": [
    "if superHero in superHeroList:\n",
    "    print(\"kahraman bizim listede\")\n",
    "else:\n",
    "    print(\":(\")"
   ]
  },
  {
   "cell_type": "code",
   "execution_count": null,
   "id": "63622c71-c84c-42c0-ae66-1b9d0b56aebe",
   "metadata": {},
   "outputs": [],
   "source": []
  },
  {
   "cell_type": "markdown",
   "id": "239d688b-4b1e-4d14-98ff-1f894bff8f84",
   "metadata": {},
   "source": [
    "## döngüler giriş"
   ]
  },
  {
   "cell_type": "code",
   "execution_count": 91,
   "id": "cc740fd2-2df7-4996-bc41-dd3a4eed6805",
   "metadata": {},
   "outputs": [],
   "source": [
    "# 2 adet döngümüz var for ve while döngüleri for döngüsüyle başlayalım"
   ]
  },
  {
   "cell_type": "code",
   "execution_count": 93,
   "id": "fcd1d706-5295-4fc9-895a-f76b3661dffa",
   "metadata": {},
   "outputs": [],
   "source": [
    "myList=[10,20,30,40,50]"
   ]
  },
  {
   "cell_type": "code",
   "execution_count": 125,
   "id": "310c034a-6218-4218-bcbb-71ee2c2dbf90",
   "metadata": {},
   "outputs": [],
   "source": [
    "#direkt örnek üzerinden bakalım syntaxa\n",
    "#ilk olarak listelerde nasıl çalışır for döngüsü ona bakalım"
   ]
  },
  {
   "cell_type": "code",
   "execution_count": 101,
   "id": "5eb0173c-8122-423f-85d4-8e325497f17e",
   "metadata": {},
   "outputs": [
    {
     "name": "stdout",
     "output_type": "stream",
     "text": [
      "2.0\n",
      "4.0\n",
      "6.0\n",
      "8.0\n",
      "10.0\n"
     ]
    }
   ],
   "source": [
    "for num in myList:#number herhangi bir değişken biz veriyoruz ismi javada foreach gibi düşün \n",
    "    print(num/5)\n",
    "    #mantık olarak mylist içindeki her elemanı alıyor bizim ismini verdiğimiz num değişkenine atıyor \n",
    "    #aslında tamamen javadaki foreach mantığı"
   ]
  },
  {
   "cell_type": "code",
   "execution_count": 103,
   "id": "db0e1419-30e6-4743-a2c1-8867156f5176",
   "metadata": {},
   "outputs": [
    {
     "name": "stdout",
     "output_type": "stream",
     "text": [
      "48\n",
      "98\n",
      "148\n",
      "198\n",
      "248\n"
     ]
    }
   ],
   "source": [
    "for x in myList:\n",
    "    newNumber=x*5-2\n",
    "    print(newNumber)"
   ]
  },
  {
   "cell_type": "code",
   "execution_count": 123,
   "id": "ea81345b-ad1e-43e6-98b5-9cb70b524ddb",
   "metadata": {},
   "outputs": [
    {
     "name": "stdout",
     "output_type": "stream",
     "text": [
      "10 - 6 ya tam bölünmez\n",
      "20 - 6 ya tam bölünmez\n",
      "30 - 6 ya tam bölünür\n",
      "40 - 6 ya tam bölünmez\n",
      "50 - 6 ya tam bölünmez\n"
     ]
    }
   ],
   "source": [
    "#ödev aynı zamanda görüyorsun str ve int , ile birleşti javada + ile yapardık\n",
    "#yine + ile yapılır ama tür dönüşümü gerekirdi\n",
    "for i in myList:\n",
    "    if i%6==0:\n",
    "        print(i,\"- 6 ya tam bölünür\")\n",
    "    else:\n",
    "        print(i,\"- 6 ya tam bölünmez\")"
   ]
  },
  {
   "cell_type": "code",
   "execution_count": 127,
   "id": "f201e7db-ab52-4821-bc42-abd392d9756c",
   "metadata": {},
   "outputs": [],
   "source": [
    "#for döngüsü sadece listelerle çalışmaz diğer çalıştığı yapıları görelim"
   ]
  },
  {
   "cell_type": "code",
   "execution_count": 129,
   "id": "7df351a7-0d90-4082-bf68-e9856709a3a0",
   "metadata": {},
   "outputs": [],
   "source": [
    "myStr=\"mehmet can gulseroglu\""
   ]
  },
  {
   "cell_type": "code",
   "execution_count": 131,
   "id": "21dc0e9e-1847-4418-ae79-be9b26c65e5f",
   "metadata": {},
   "outputs": [
    {
     "name": "stdout",
     "output_type": "stream",
     "text": [
      "m\n",
      "e\n",
      "h\n",
      "m\n",
      "e\n",
      "t\n",
      " \n",
      "c\n",
      "a\n",
      "n\n",
      " \n",
      "g\n",
      "u\n",
      "l\n",
      "s\n",
      "e\n",
      "r\n",
      "o\n",
      "g\n",
      "l\n",
      "u\n"
     ]
    }
   ],
   "source": [
    "for c in myStr:\n",
    "    print(c)"
   ]
  },
  {
   "cell_type": "code",
   "execution_count": 137,
   "id": "7c2ca239-d13c-4b49-9d70-032c05d3b1ea",
   "metadata": {},
   "outputs": [],
   "source": [
    "myTuple=(10,20,30,40,50)#tuplelarla da kullanılabilir for"
   ]
  },
  {
   "cell_type": "code",
   "execution_count": 139,
   "id": "c68fb383-eb57-41e9-84f7-117f71419bd3",
   "metadata": {},
   "outputs": [
    {
     "name": "stdout",
     "output_type": "stream",
     "text": [
      "30\n",
      "60\n",
      "90\n",
      "120\n",
      "150\n"
     ]
    }
   ],
   "source": [
    "for t in myTuple:\n",
    "    print(t*3)"
   ]
  },
  {
   "cell_type": "code",
   "execution_count": 141,
   "id": "e6013259-cc79-40f0-aa5c-5f5e1057109e",
   "metadata": {},
   "outputs": [],
   "source": [
    "myNewList=[(\"a\",\"b\"),(\"c\",\"d\"),(\"e\",\"f\"),(\"g\",\"h\")]#tuplelardan oluşan bir listemiz var"
   ]
  },
  {
   "cell_type": "code",
   "execution_count": 143,
   "id": "0d3cc871-6e4b-4ccd-b044-b2fa2d52b771",
   "metadata": {},
   "outputs": [
    {
     "data": {
      "text/plain": [
       "4"
      ]
     },
     "execution_count": 143,
     "metadata": {},
     "output_type": "execute_result"
    }
   ],
   "source": [
    "len(myNewList)"
   ]
  },
  {
   "cell_type": "code",
   "execution_count": 147,
   "id": "207fc735-a6ec-4dc6-91c5-57a4ed7a4371",
   "metadata": {},
   "outputs": [
    {
     "name": "stdout",
     "output_type": "stream",
     "text": [
      "('a', 'b')\n",
      "('c', 'd')\n",
      "('e', 'f')\n",
      "('g', 'h')\n"
     ]
    }
   ],
   "source": [
    "for element in myNewList:\n",
    "    print(element)"
   ]
  },
  {
   "cell_type": "code",
   "execution_count": 155,
   "id": "5350e9b6-e613-40a4-87cf-d6b825332084",
   "metadata": {},
   "outputs": [
    {
     "name": "stdout",
     "output_type": "stream",
     "text": [
      "a\n",
      "c\n",
      "e\n",
      "g\n"
     ]
    }
   ],
   "source": [
    "#böyle yapılarda istenen elemanı da alabiliriz 2li 3lü farketmez tuple vs\n",
    "for (x,y) in myNewList:\n",
    "    print(x)\n",
    "#ilk kısımları getir demiş oluruz direkt elementleri getir demek yerine 2 parametre olduğunu ona söyledik\n",
    "#ve istediğimiz parametreyi çağırdık"
   ]
  },
  {
   "cell_type": "code",
   "execution_count": 159,
   "id": "a7ecb659-a8fa-410b-aa89-6ece836a03e5",
   "metadata": {},
   "outputs": [
    {
     "data": {
      "text/plain": [
       "5"
      ]
     },
     "execution_count": 159,
     "metadata": {},
     "output_type": "execute_result"
    }
   ],
   "source": [
    "#set yapısıyla for görelim\n",
    "mySet={1,2,3,4,5}\n",
    "\n",
    "len(mySet)"
   ]
  },
  {
   "cell_type": "code",
   "execution_count": 163,
   "id": "47eb5f20-8d13-44ba-b4b3-27aa37f115cd",
   "metadata": {},
   "outputs": [
    {
     "name": "stdout",
     "output_type": "stream",
     "text": [
      "1\n",
      "2\n",
      "3\n",
      "4\n",
      "5\n"
     ]
    }
   ],
   "source": [
    "for i in mySet:\n",
    "    print(i)"
   ]
  },
  {
   "cell_type": "code",
   "execution_count": 165,
   "id": "1d14a0ae-1ddd-4670-9899-e87035c05625",
   "metadata": {},
   "outputs": [],
   "source": [
    "#sözlük yani dictionaryde for yapısına bakalım"
   ]
  },
  {
   "cell_type": "code",
   "execution_count": 167,
   "id": "3a8e6601-d56b-46aa-b518-cbd332bf1d7d",
   "metadata": {},
   "outputs": [],
   "source": [
    "myDict={\"a\":2,\"b\":3,\"c\":4}"
   ]
  },
  {
   "cell_type": "code",
   "execution_count": 169,
   "id": "9c346ba2-97a4-4dca-a9e9-4eb1d843e52d",
   "metadata": {},
   "outputs": [
    {
     "name": "stdout",
     "output_type": "stream",
     "text": [
      "a\n",
      "b\n",
      "c\n"
     ]
    }
   ],
   "source": [
    "#düz çalıştırırsam foru sadece key değerlerini getirecek\n",
    "for k in myDict:\n",
    "    print(k)"
   ]
  },
  {
   "cell_type": "code",
   "execution_count": 171,
   "id": "4599c88a-5d63-4810-b0b1-eb2711d0dc43",
   "metadata": {},
   "outputs": [
    {
     "name": "stdout",
     "output_type": "stream",
     "text": [
      "2\n",
      "3\n",
      "4\n"
     ]
    }
   ],
   "source": [
    "#.values .keys ile yapabilirsin\n",
    "for k in myDict.values():\n",
    "    print(k)"
   ]
  },
  {
   "cell_type": "code",
   "execution_count": 175,
   "id": "f65b8d29-6d44-4216-a580-eedc02c9a17b",
   "metadata": {},
   "outputs": [
    {
     "name": "stdout",
     "output_type": "stream",
     "text": [
      "a\n",
      "b\n",
      "c\n"
     ]
    }
   ],
   "source": [
    "for k in myDict.keys():\n",
    "    print(k)"
   ]
  },
  {
   "cell_type": "code",
   "execution_count": 181,
   "id": "db79ddd8-bca5-4458-a9c7-a46682ba193e",
   "metadata": {},
   "outputs": [
    {
     "name": "stdout",
     "output_type": "stream",
     "text": [
      "a\n",
      "b\n",
      "c\n"
     ]
    }
   ],
   "source": [
    "#veya sözlüklerde . yapınca items diye bir metot var o bize sözlüğü tuple\n",
    "#olarak verirdi bunu aklında tutarsan böyle de yaparsın\n",
    "for (x,y) in myDict.items():\n",
    "    print(x)\n",
    "#x y başka isim de verebilirsin hangisini bastırmak istersen en son basarsın"
   ]
  },
  {
   "cell_type": "code",
   "execution_count": null,
   "id": "aa7178c0-8b64-47b5-a803-2525d7d9f196",
   "metadata": {},
   "outputs": [],
   "source": []
  },
  {
   "cell_type": "markdown",
   "id": "dcfe80bc-55a5-461f-9f5e-315766838c14",
   "metadata": {},
   "source": [
    "## break-continue-pass yapıları"
   ]
  },
  {
   "cell_type": "code",
   "execution_count": 184,
   "id": "8d95d283-f14c-40fc-8128-fa9de03e0d47",
   "metadata": {},
   "outputs": [],
   "source": [
    "#döngüden çıkmamıza olanak tanıyan yapılar"
   ]
  },
  {
   "cell_type": "code",
   "execution_count": 198,
   "id": "4f90d483-3d5b-471d-ad16-4c613322f2bd",
   "metadata": {},
   "outputs": [
    {
     "name": "stdout",
     "output_type": "stream",
     "text": [
      "10\n",
      "20\n",
      "30\n",
      "40\n",
      "yes\n"
     ]
    }
   ],
   "source": [
    "#döngüyü yarıda kesmek isteyebiliriz \n",
    "#döngüde biz 40 değerini arayalım 40 bulunca yes yapacak ama sonuçta her elemana bakacak 40 ı bulurken ama kesersen bulduktan sonra bakmayı bırakır\n",
    "\n",
    "myList=[10,20,30,40,50,60,70]\n",
    "for i in myList:\n",
    "    print(i)\n",
    "    if i==40:\n",
    "        print(\"yes\")\n",
    "        break #40 ı bulacak daha sonrasına bakmayacak döngüden çıkacak\n"
   ]
  },
  {
   "cell_type": "code",
   "execution_count": 204,
   "id": "2db859f2-d0be-45d7-9a20-a2dff536cb37",
   "metadata": {},
   "outputs": [
    {
     "name": "stdout",
     "output_type": "stream",
     "text": [
      "10\n",
      "20\n",
      "30\n",
      "40\n",
      "50\n",
      "60\n",
      "70\n"
     ]
    }
   ],
   "source": [
    "myList=[10,20,30,40,50,60,70]\n",
    "for i in myList:\n",
    "    print(i)\n",
    "    if i==40:\n",
    "        continue #continue demek burda dur bunu çalıştırma bir sonrakine devam et atla demek\n",
    "        print(\"yes\")\n",
    "#40 çalıştı yes e geldi çalıştırmayacak döngüden devam edecek"
   ]
  },
  {
   "cell_type": "code",
   "execution_count": 208,
   "id": "9ef15571-3700-4f34-9cea-9e36e2118037",
   "metadata": {},
   "outputs": [],
   "source": [
    "# pass geçmek demek bitmiş kodda çok görmeyiz hani bırakırız burayı geç deriz sonra döneceğiz gibi\n",
    "for i in myList:\n",
    "    pass #sonra gelip bakacam dolduracam gibi bişey"
   ]
  },
  {
   "cell_type": "code",
   "execution_count": null,
   "id": "49b9aaaf-d67c-49aa-a980-f4ad999e3b3c",
   "metadata": {},
   "outputs": [],
   "source": []
  }
 ],
 "metadata": {
  "kernelspec": {
   "display_name": "Python [conda env:base] *",
   "language": "python",
   "name": "conda-base-py"
  },
  "language_info": {
   "codemirror_mode": {
    "name": "ipython",
    "version": 3
   },
   "file_extension": ".py",
   "mimetype": "text/x-python",
   "name": "python",
   "nbconvert_exporter": "python",
   "pygments_lexer": "ipython3",
   "version": "3.12.7"
  }
 },
 "nbformat": 4,
 "nbformat_minor": 5
}
