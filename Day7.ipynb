{
 "cells": [
  {
   "cell_type": "markdown",
   "id": "fe6b6e21-b66a-4fdf-bdbb-f79ef866b657",
   "metadata": {},
   "source": [
    "## while döngüsüne bakalım..."
   ]
  },
  {
   "cell_type": "code",
   "execution_count": 2,
   "id": "1f866583-2e9a-4a85-bc03-23460f9fdfe4",
   "metadata": {},
   "outputs": [],
   "source": [
    "# şu olduğunca kullan demek ilgili şart sağlandığı sürece döngü çalışır\n",
    "#yani şart vardır içine kodlar yazılır"
   ]
  },
  {
   "cell_type": "code",
   "execution_count": 6,
   "id": "4a38da72-6ca2-4a02-bc24-ebdc7818d11a",
   "metadata": {},
   "outputs": [
    {
     "name": "stdout",
     "output_type": "stream",
     "text": [
      "0\n",
      "1\n",
      "2\n",
      "3\n",
      "4\n",
      "5\n",
      "6\n",
      "7\n",
      "8\n",
      "9\n"
     ]
    }
   ],
   "source": [
    "x = 0\n",
    "while x<10:\n",
    "    print(x)\n",
    "    x=x+1"
   ]
  },
  {
   "cell_type": "code",
   "execution_count": 8,
   "id": "6605a07f-d5e0-4ded-8331-96f2d73e7691",
   "metadata": {},
   "outputs": [],
   "source": [
    "# while True:    sonsuz döngüdür."
   ]
  },
  {
   "cell_type": "code",
   "execution_count": 20,
   "id": "f47e1dff-ac9f-402a-ad87-c1a350b8f891",
   "metadata": {},
   "outputs": [
    {
     "name": "stdout",
     "output_type": "stream",
     "text": [
      "benim yaşım 12\n"
     ]
    }
   ],
   "source": [
    "#string yanına bişey birleştirme pythonda , ile yapmak mantıklı javada + ile mesela\n",
    "x=12\n",
    "print(\"benim yaşım\" , x)"
   ]
  },
  {
   "cell_type": "code",
   "execution_count": 27,
   "id": "9604411f-464a-4ddf-91fd-6323f5ed59ef",
   "metadata": {},
   "outputs": [
    {
     "name": "stdout",
     "output_type": "stream",
     "text": [
      "p 0\n",
      "p 1\n",
      "p 2\n",
      "p 3\n",
      "p 4\n",
      "p 5\n",
      "p 6\n",
      "p 7\n",
      "p 8\n",
      "p 9\n",
      "p 10\n",
      "p 11\n",
      "p 12\n",
      "p 13\n",
      "p 14\n",
      "p 15\n",
      "p 16\n",
      "p 17\n",
      "p 18\n",
      "p 19\n"
     ]
    }
   ],
   "source": [
    "p=0\n",
    "while p <20:\n",
    "    print(\"p\",p)\n",
    "    p=p+1 #veya p+=1"
   ]
  },
  {
   "cell_type": "markdown",
   "id": "18d5286c-974c-4b7c-8bcc-12013f44b87d",
   "metadata": {},
   "source": [
    "## ileri seviye işlemler"
   ]
  },
  {
   "cell_type": "code",
   "execution_count": 30,
   "id": "380efc91-6c6e-4164-a3ee-67fe5efaf097",
   "metadata": {},
   "outputs": [],
   "source": [
    "#range fonksiyonu kullanımına bakalım for için\n",
    "#normalde for i in myList: vs derdik şimdi bu kullanıma bakalım..."
   ]
  },
  {
   "cell_type": "code",
   "execution_count": 32,
   "id": "0bd14e56-cbf2-4cac-ab26-b6c1e6381157",
   "metadata": {},
   "outputs": [
    {
     "data": {
      "text/plain": [
       "range(0, 50)"
      ]
     },
     "execution_count": 32,
     "metadata": {},
     "output_type": "execute_result"
    }
   ],
   "source": [
    "range(50)#anlamı şudur 0 dan 50 ye kadar bir kapsam oluşturur"
   ]
  },
  {
   "cell_type": "code",
   "execution_count": 38,
   "id": "b1532a11-751e-4fcb-acf9-7250f3dc1631",
   "metadata": {},
   "outputs": [
    {
     "data": {
      "text/plain": [
       "[0, 1, 2, 3, 4, 5, 6, 7, 8, 9]"
      ]
     },
     "execution_count": 38,
     "metadata": {},
     "output_type": "execute_result"
    }
   ],
   "source": [
    "list(range(10))#0 dan 10 ye liste oluştur dedik"
   ]
  },
  {
   "cell_type": "code",
   "execution_count": 48,
   "id": "3833b4ce-6f8b-4879-9b70-2c875497794c",
   "metadata": {},
   "outputs": [
    {
     "name": "stdout",
     "output_type": "stream",
     "text": [
      "0\n",
      "2\n",
      "4\n",
      "6\n",
      "8\n",
      "10\n",
      "12\n",
      "14\n",
      "16\n",
      "18\n",
      "20\n",
      "22\n",
      "24\n",
      "26\n",
      "28\n",
      "30\n",
      "32\n",
      "34\n",
      "36\n",
      "38\n"
     ]
    }
   ],
   "source": [
    "for num in list(range(20)):\n",
    "    print(num*2)\n",
    "    #dedik ki 0 dan 20 ye list oluştur her birini num değişkenine ata sonra her birini 2 ile çarp\n"
   ]
  },
  {
   "cell_type": "code",
   "execution_count": 50,
   "id": "7ad321cf-d336-4219-b47e-f3b03af8e73c",
   "metadata": {},
   "outputs": [
    {
     "data": {
      "text/plain": [
       "[5, 6, 7, 8, 9, 10, 11, 12, 13, 14, 15, 16, 17, 18, 19, 20, 21, 22, 23, 24]"
      ]
     },
     "execution_count": 50,
     "metadata": {},
     "output_type": "execute_result"
    }
   ],
   "source": [
    "list(range(5,25))#5 den 25 e sayıları dizer"
   ]
  },
  {
   "cell_type": "code",
   "execution_count": 54,
   "id": "280f1101-c336-4475-a056-d9d1ec158e48",
   "metadata": {},
   "outputs": [
    {
     "data": {
      "text/plain": [
       "[5, 7, 9, 11, 13, 15, 17, 19, 21, 23]"
      ]
     },
     "execution_count": 54,
     "metadata": {},
     "output_type": "execute_result"
    }
   ],
   "source": [
    "#aslında stepping size stopping size mantığı burda da var \n",
    "list(range(5,25,2))#5 ten başla 25 e kadar yaz 2 şer arttır"
   ]
  },
  {
   "cell_type": "code",
   "execution_count": 56,
   "id": "5e954735-baf3-49fb-82a8-03a1b38acc3b",
   "metadata": {},
   "outputs": [],
   "source": [
    "# enumarete kullanımı"
   ]
  },
  {
   "cell_type": "code",
   "execution_count": 60,
   "id": "26d850ae-d6e6-42cf-9591-0b1d92e759e0",
   "metadata": {},
   "outputs": [
    {
     "name": "stdout",
     "output_type": "stream",
     "text": [
      "(0, 10)\n",
      "(1, 20)\n",
      "(2, 30)\n",
      "(3, 40)\n",
      "(4, 50)\n",
      "(5, 60)\n"
     ]
    }
   ],
   "source": [
    "#indexleri ve değerleri birlikte verir\n",
    "myList=[10,20,30,40,50,60]\n",
    "for element in enumerate(myList):\n",
    "     print(element)"
   ]
  },
  {
   "cell_type": "code",
   "execution_count": 64,
   "id": "e7586ea6-d642-44a0-acca-8b598ea3594e",
   "metadata": {},
   "outputs": [],
   "source": [
    "#random kullanımı\n",
    "#rastgele sayı oluşturmak için kullanılır\n",
    "#pythonda kütüphaneleri dahil etmeyi görelim öncesinde\n",
    "from random import randint #random kütüphanesi var onun içinden randint isimli fonksiyonu import ediyorum demek"
   ]
  },
  {
   "cell_type": "code",
   "execution_count": 68,
   "id": "de4323a1-960e-4c2a-8577-ddacdd2cb3ad",
   "metadata": {},
   "outputs": [
    {
     "data": {
      "text/plain": [
       "56"
      ]
     },
     "execution_count": 68,
     "metadata": {},
     "output_type": "execute_result"
    }
   ],
   "source": [
    "randint(0,100)#0-100 arası bana rastgele sayı getir diyoruz randint amacı bu"
   ]
  },
  {
   "cell_type": "code",
   "execution_count": 74,
   "id": "ffc5525d-1894-4145-aa91-8f5e0ab74014",
   "metadata": {},
   "outputs": [
    {
     "name": "stdout",
     "output_type": "stream",
     "text": [
      "[10, 40, 50, 30, 60, 20]\n"
     ]
    }
   ],
   "source": [
    "#mesela shuffle kelime anlamı karıştırmak zaten\n",
    "from random import shuffle\n",
    "shuffle(myList)#listeyi karıştırır\n",
    "print(myList)"
   ]
  },
  {
   "cell_type": "markdown",
   "id": "a0fe1fcc-4dcd-4b20-b165-b8f9c4c7d2a2",
   "metadata": {},
   "source": [
    "## ileri seviye işlemler 2"
   ]
  },
  {
   "cell_type": "code",
   "execution_count": 79,
   "id": "d10b5165-13b8-452d-aa36-aacc7698dd91",
   "metadata": {},
   "outputs": [],
   "source": [
    "#zip kullanımına bakalım sıkıştırmak olarak düşünebilirsin birden fazla yapıyı"
   ]
  },
  {
   "cell_type": "code",
   "execution_count": 81,
   "id": "2dedea30-e415-404f-870d-9c56da21a4d0",
   "metadata": {},
   "outputs": [],
   "source": [
    "foodList=[\"apple\",\"banana\",\"melon\"]\n",
    "caloriesList=[100,150,200]\n",
    "dayList=[\"monday\",\"tuesday\",\"wednesday\"]\n",
    "#adlarında 3 tane listem olsun\n",
    "#bunların hepsini 1 listeye toplayabilirim zip ile\n",
    "zippedList=zip(foodList,caloriesList,dayList)"
   ]
  },
  {
   "cell_type": "code",
   "execution_count": 83,
   "id": "87391d9b-6c6e-419c-b450-032548741699",
   "metadata": {},
   "outputs": [
    {
     "name": "stdout",
     "output_type": "stream",
     "text": [
      "<zip object at 0x0000023304E525C0>\n"
     ]
    }
   ],
   "source": [
    "print(zippedList)"
   ]
  },
  {
   "cell_type": "code",
   "execution_count": 85,
   "id": "b0022586-35b4-47b1-80a0-77394f42b63f",
   "metadata": {},
   "outputs": [
    {
     "data": {
      "text/plain": [
       "[('apple', 100, 'monday'),\n",
       " ('banana', 150, 'tuesday'),\n",
       " ('melon', 200, 'wednesday')]"
      ]
     },
     "execution_count": 85,
     "metadata": {},
     "output_type": "execute_result"
    }
   ],
   "source": [
    "#şu anda zip formatında görüntülenir bunu liste olarak görmek istersen list parantezine almalısın\n",
    "list(zippedList)"
   ]
  }
 ],
 "metadata": {
  "kernelspec": {
   "display_name": "Python [conda env:base] *",
   "language": "python",
   "name": "conda-base-py"
  },
  "language_info": {
   "codemirror_mode": {
    "name": "ipython",
    "version": 3
   },
   "file_extension": ".py",
   "mimetype": "text/x-python",
   "name": "python",
   "nbconvert_exporter": "python",
   "pygments_lexer": "ipython3",
   "version": "3.12.7"
  }
 },
 "nbformat": 4,
 "nbformat_minor": 5
}
