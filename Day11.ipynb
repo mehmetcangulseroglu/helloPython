{
 "cells": [
  {
   "cell_type": "markdown",
   "id": "929f1857-6e6b-4d04-ac14-4e3707a1dad3",
   "metadata": {},
   "source": [
    "## QUİZ 3"
   ]
  },
  {
   "cell_type": "code",
   "execution_count": 38,
   "id": "06e1fec6-4424-4608-9f33-89fc631a56f9",
   "metadata": {},
   "outputs": [],
   "source": [
    "#1) Aşağıdaki kodun çıktısı ne olacaktır?\n",
    "def toplama(a,b):\n",
    "    print(a,b)\n",
    "\n",
    "#cevap none toplama adı fakat toplama yapmıyor ve return etmiyor bişey döndürmüyor zaten"
   ]
  },
  {
   "cell_type": "code",
   "execution_count": 4,
   "id": "d2407618-d530-45a1-a881-b14c907abc4e",
   "metadata": {},
   "outputs": [],
   "source": [
    "#2) Aşağıdaki kodun çıktısı ne olacaktır?\n",
    "def usselIslem(x=5,y=3):\n",
    "    print(x ** y)"
   ]
  },
  {
   "cell_type": "code",
   "execution_count": 40,
   "id": "3ac78f38-fd82-4032-ae3c-91e95a401cfa",
   "metadata": {},
   "outputs": [
    {
     "name": "stdout",
     "output_type": "stream",
     "text": [
      "125\n"
     ]
    }
   ],
   "source": [
    "#3) Aynı fonksiyonu aşağıdaki gibi çağırırsak çıktı ne olur?\n",
    "usselIslem()\n",
    "\n",
    "# cevap hata vermez parametre var ama değerleri verilmiş zaten önden"
   ]
  },
  {
   "cell_type": "code",
   "execution_count": null,
   "id": "3b0228bb-f886-44c1-be85-fc6f191647ed",
   "metadata": {},
   "outputs": [],
   "source": []
  },
  {
   "cell_type": "code",
   "execution_count": 43,
   "id": "b40b7bd9-a394-4e63-aa93-40bdef4679ab",
   "metadata": {},
   "outputs": [],
   "source": [
    "#5) Aşağıdaki dizide belirtilen rakamları, myFunction fonksiyonuna tabi tutup, yeni bir dizi oluşturunuz\n",
    "def myFunc(num):\n",
    "    return num ** 3\n",
    "myList = [2,3,4,5,6]\n",
    "#for vs yapılabilir fakat map ile\n",
    "#list(map(mymyFunc,mymyList))"
   ]
  },
  {
   "cell_type": "code",
   "execution_count": 24,
   "id": "b053c07c-ea7b-4a09-b482-57b24af9f80f",
   "metadata": {},
   "outputs": [
    {
     "name": "stdout",
     "output_type": "stream",
     "text": [
      "['SA3123XYZ', 'XYZA123Q']\n"
     ]
    }
   ],
   "source": [
    "#6) Aşağıdaki string dizisinde, içinde sadece XYZ geçen barkodları gösterecek yeni bir liste oluşturunuz\n",
    "barkodDizisi = [\"ABC231\",\"SA3123XYZ\",\"XYZA123Q\",\"QRE1231KJ\",\"X112QGL\"]\n",
    "bosListe = []\n",
    "\n",
    "for i in barkodDizisi:\n",
    "    if \"XYZ\" in i:\n",
    "        bosListe.append(i)\n",
    "print(bosListe)       "
   ]
  },
  {
   "cell_type": "code",
   "execution_count": 26,
   "id": "a43c95d8-1463-4049-a703-9066f6ec4d71",
   "metadata": {},
   "outputs": [],
   "source": [
    "#7) Aşağıdaki kodu okursanız, ornekFonksiyon çalıştırıldığında en altta yazdırılan print size neyi yazdıracaktır?\n",
    "myVar = \"Atil Samancioglu\"\n",
    "\n",
    "def ornekFonksiyon():\n",
    "    myVar = \"Atil\"\n",
    "    \n",
    "    def digerFonksiyon():\n",
    "        print(myVar)\n",
    "    \n",
    "    digerFonksiyon()"
   ]
  },
  {
   "cell_type": "code",
   "execution_count": 28,
   "id": "faf85f58-ea76-419a-bad2-242d713cdab2",
   "metadata": {},
   "outputs": [],
   "source": [
    "#8) Aşağıda yazdırılan sınıfı incelediğinizde kedim.yasiCarp() kodunun çıktısı ne olacaktır?\n",
    "class Kedi():\n",
    "        \n",
    "    def __init__(self,isim,yas=5):\n",
    "        self.isim = isim\n",
    "        self.yas = yas\n",
    "        \n",
    "    def yasiCarp(self):\n",
    "        return self.yas * 3\n",
    "kedim = Kedi(\"Tonton\")"
   ]
  },
  {
   "cell_type": "code",
   "execution_count": 30,
   "id": "ba8d6c53-a943-4a00-ac71-1774fb618ce6",
   "metadata": {},
   "outputs": [],
   "source": [
    "#9) Aşağıdaki kodun çıktısı ne olacaktır?\n",
    "class Ogrenci():\n",
    "    \n",
    "    def __init__(self,isim,sinavNotu):\n",
    "        self.isim = isim\n",
    "        self.__sinavNotu = sinavNotu\n",
    "    \n",
    "    def notuGoster(self):\n",
    "        print(f\"{self.isim} sınav notu: {self.__sinavNotu}\")\n",
    "ogrenci = Ogrenci(\"Mehmet\",85)\n",
    "ogrenci.__sinavNotu = 75\n",
    "#ogrenci.notuGoster()\n",
    "# cevap"
   ]
  },
  {
   "cell_type": "code",
   "execution_count": 32,
   "id": "8d0e31bf-4e0b-4a47-8fd8-d62973dcd6aa",
   "metadata": {},
   "outputs": [],
   "source": [
    "#10) Soyut sınıflar ve methodlar oluşturmamıza olanak tanıyan, kodlarımızı daha planlı şekilde yazmamızı mümkün kılan\n",
    "# aynı zamanda büyük projelerde bize yapısal olarak fayda sağlayabilecek OOP prensibinin adı nedir?\n",
    "# cevap"
   ]
  }
 ],
 "metadata": {
  "kernelspec": {
   "display_name": "Python [conda env:base] *",
   "language": "python",
   "name": "conda-base-py"
  },
  "language_info": {
   "codemirror_mode": {
    "name": "ipython",
    "version": 3
   },
   "file_extension": ".py",
   "mimetype": "text/x-python",
   "name": "python",
   "nbconvert_exporter": "python",
   "pygments_lexer": "ipython3",
   "version": "3.12.7"
  }
 },
 "nbformat": 4,
 "nbformat_minor": 5
}
