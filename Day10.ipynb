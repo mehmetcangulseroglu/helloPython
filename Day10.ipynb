{
 "cells": [
  {
   "cell_type": "markdown",
   "id": "9bd551cf-595c-4b94-9b6b-aeed0d01e7af",
   "metadata": {},
   "source": [
    "## OOP ve SINIFLAR"
   ]
  },
  {
   "cell_type": "markdown",
   "id": "fd3f4d1c-97c5-42da-8960-d74c4f3d87e3",
   "metadata": {},
   "source": [
    "# lesson 1"
   ]
  },
  {
   "cell_type": "code",
   "execution_count": 3,
   "id": "f92ddec7-6c90-4388-85a1-6c03e397a1d7",
   "metadata": {},
   "outputs": [],
   "source": [
    "# sınıf isimlerini genelde büyük harfle başlatırız bu bir kültürdür \n",
    "# küçük yazınca sıkıntı olmaz ama racon diyelim"
   ]
  },
  {
   "cell_type": "code",
   "execution_count": 4,
   "id": "f7845f10-e1d4-499a-8786-b713f3c11db5",
   "metadata": {},
   "outputs": [
    {
     "data": {
      "text/plain": [
       "'\\nclass Person():\\n    name = \"\"\\n    age = 0\\n'"
      ]
     },
     "execution_count": 4,
     "metadata": {},
     "output_type": "execute_result"
    }
   ],
   "source": [
    "\"\"\"\n",
    "class Person():\n",
    "    name = \"\"\n",
    "    age = 0\n",
    "\"\"\"\n",
    "#örnek sınıf kullanımı yukardadır pass kısmına sınıf kodları yazılır"
   ]
  },
  {
   "cell_type": "code",
   "execution_count": 5,
   "id": "936f3af4-4213-40d3-a163-3e7196be98b9",
   "metadata": {},
   "outputs": [],
   "source": [
    "#pythonda sınıftan nesne üretme nasıl olur ??\n",
    "#atil = Person()  #üreteceğin nesnenin adını = sınıf adı şeklinde yaparsın ve o nesneyi üretmiş olursun"
   ]
  },
  {
   "cell_type": "code",
   "execution_count": 6,
   "id": "5284907c-416c-473e-ba70-716702e7b6e3",
   "metadata": {},
   "outputs": [],
   "source": [
    "#atil.age #atil. dediğin zaman metotlar gelir ilgili sınıf içindeki\n",
    "# burda atil objedir nesnedir yani okey \n",
    "#Person() ise bu nesneyi hangi sınıftan ürettiğimizdir"
   ]
  },
  {
   "cell_type": "code",
   "execution_count": 7,
   "id": "530852a6-4704-428b-8952-83b8b63124a4",
   "metadata": {},
   "outputs": [],
   "source": [
    "#javada ne yapardık nesne oluştururken ?\n",
    "# Person person = new Person(); üretirdik\n",
    "#pythonda en baştaki ve new yok \n",
    "#person=Person() şeklinde yapılır yani"
   ]
  },
  {
   "cell_type": "code",
   "execution_count": 8,
   "id": "3831f4e8-a293-44ea-a352-f203c2761d02",
   "metadata": {},
   "outputs": [
    {
     "data": {
      "text/plain": [
       "'\\nclass Person():\\n    name = \"\"\\n    age = 0\\n    gender = \"\"\\n\\n    def __init__(self):\\n'"
      ]
     },
     "execution_count": 8,
     "metadata": {},
     "output_type": "execute_result"
    }
   ],
   "source": [
    "#sınıfların içinde istediğimiz kadar fonksiyon(metot) yazabiliriz\n",
    "#pythonda sınıflar içine __init__ fonksiyonu yazarak javadaki constructor yapısını oluştururuz\n",
    "#yani pythonda bir sınıfın constructoru __init__ olarak yazılır \n",
    "\"\"\"\n",
    "class Person():\n",
    "    name = \"\"\n",
    "    age = 0\n",
    "    gender = \"\"\n",
    "\n",
    "    def __init__(self):\n",
    "\"\"\""
   ]
  },
  {
   "cell_type": "code",
   "execution_count": 9,
   "id": "631dc227-d483-46c1-8da8-162d63cfd6cc",
   "metadata": {},
   "outputs": [],
   "source": [
    "#eğer ki init oluşturursan bir sınıfta biz her obje ürettiğimizde bu constructor yapısı çalışacak\n",
    "#self yazan hali default halidir biz sınıf içindeki gerekli değişkenleri parametre olarak verebiliriz\n",
    "class Person():\n",
    "    name =\"\"\n",
    "    age =0\n",
    "    gender=\"\"\n",
    "\n",
    "    def __init__(self,nameInput,ageInput,genderInput):\n",
    "        self.name =nameInput\n",
    "        self.age=ageInput\n",
    "        self.gender=genderInput#javadaki thisleme işlemi gibi düşün\n",
    "#isimleri aynı yapardık ama hangisi hangisi anla diye böyle gösterdim\n",
    "#zaten self ifadesi olan değişken oluyor"
   ]
  },
  {
   "cell_type": "code",
   "execution_count": 10,
   "id": "3bcf9040-599a-4003-bca6-4b98f697fb03",
   "metadata": {},
   "outputs": [],
   "source": [
    "#böyle hatalı olur p1=Person() #Person sınıfından p1 nesnesi ürettik ama dikkat et\n",
    "#nesne ürettiğin sınıfa bak consta bak parametreleri var onları vermek zorundasın\n",
    "p1 = Person(\"mehmet\",23,\"male\")"
   ]
  },
  {
   "cell_type": "code",
   "execution_count": 11,
   "id": "fcf4f85f-8c8f-4f67-96c9-924fb6682995",
   "metadata": {},
   "outputs": [],
   "source": [
    "#unutma self. demek zorundasın değişken olduklarını anlaması için programın"
   ]
  },
  {
   "cell_type": "code",
   "execution_count": 12,
   "id": "20731f6d-62f3-4cb8-ba37-8a8893a93f9f",
   "metadata": {},
   "outputs": [],
   "source": [
    "#tanımladığın yapıcı metot hiç parametre almasa bile içine self yazmalısın\n",
    "#print(name) hatalı olur print(self.name) demek zorundasın mesela çağırmak istersen"
   ]
  },
  {
   "cell_type": "code",
   "execution_count": 13,
   "id": "ef693e49-9d73-4e25-95b9-0815f36f3a22",
   "metadata": {},
   "outputs": [],
   "source": [
    "#ÖNEMLİ normalde pythonda değişken kısmında olanlar yazılmaz sınıfta\n",
    "#python const u görünce anlıyor haberin olsun selfi görünce anlıyor yanındaki gibi\n",
    "#değişkenim var diye"
   ]
  },
  {
   "cell_type": "code",
   "execution_count": 14,
   "id": "fdeb98de-17a5-4b21-b804-7245b4021f6d",
   "metadata": {},
   "outputs": [],
   "source": [
    "class Vehicle():\n",
    "    name =\"volvo\"\n",
    "    color=\"black\"\n",
    "    price=1000000\n",
    "\n",
    "    def __init__(self,name,color,price):\n",
    "        self.name=name\n",
    "        self.color=color\n",
    "        self.price=price"
   ]
  },
  {
   "cell_type": "code",
   "execution_count": 15,
   "id": "0666d955-2032-4dbc-a4e4-8dee9e44a648",
   "metadata": {},
   "outputs": [],
   "source": [
    "araba=Vehicle(\"volvo\",\"blue\",1000000000000)"
   ]
  },
  {
   "cell_type": "code",
   "execution_count": 16,
   "id": "aced3c36-71b2-4727-9723-f0192911d0a4",
   "metadata": {},
   "outputs": [
    {
     "data": {
      "text/plain": [
       "'blue'"
      ]
     },
     "execution_count": 16,
     "metadata": {},
     "output_type": "execute_result"
    }
   ],
   "source": [
    "araba.color"
   ]
  },
  {
   "cell_type": "code",
   "execution_count": 17,
   "id": "84322c63-5a6e-483a-b60b-8ea32e3f6f22",
   "metadata": {},
   "outputs": [],
   "source": [
    "#***********************************************************************************************\n",
    "#önemli not değişken kısmında bulunan her değişkeni constructor\n",
    "\n",
    "#parametresine almak zorunda değilsin bunu da unutma\n",
    "\n",
    "#ÇOK ÇOK ÖNEMLİ CONST PARAMETRESİNE YAZDIĞIMIZ ŞEYLERİ KULLANICIDAN İSTEDİĞİMİZ ŞEYLER\n",
    "#OLUYOR ONA GÖRE AYRIM YAP İNİT YANİ CONST PARAMETRESİNE KULLANICIDAN ALINACAK ŞEYLERİ YAZARIZ\n",
    "#AMA EĞER CONST PARAMETRESİNE YAZMADIYSAK CONST İÇİNDE VARSA O KULLANICIDAN ALINMAZ \n",
    "#NORMAL DEĞİŞKEN GİBİ DAVRANIR "
   ]
  },
  {
   "cell_type": "markdown",
   "id": "86ebd3e7-d293-4133-8a74-01ac89b7172c",
   "metadata": {},
   "source": [
    "## lesson 2"
   ]
  },
  {
   "cell_type": "code",
   "execution_count": 19,
   "id": "6630e7a7-4e96-4542-b221-6b0194f11666",
   "metadata": {},
   "outputs": [],
   "source": [
    "#class örnekleri"
   ]
  },
  {
   "cell_type": "code",
   "execution_count": 20,
   "id": "c7db97e8-341b-4a6a-a0a5-712618b8f47b",
   "metadata": {},
   "outputs": [],
   "source": [
    "class Dog():\n",
    "    age=0\n",
    "    year=7\n",
    "\n",
    "    def __init__(self,age):\n",
    "        self.age=age\n",
    "\n",
    "    def humanAge(self):\n",
    "        return self.age * self.year #Dog.year da yazılabilir self.year da sınıf adı da olabilir yani "
   ]
  },
  {
   "cell_type": "code",
   "execution_count": 21,
   "id": "d32cb365-8980-4e21-963a-80f591d9245c",
   "metadata": {},
   "outputs": [],
   "source": [
    "myDog=Dog(15)#nesne oluşturduk"
   ]
  },
  {
   "cell_type": "code",
   "execution_count": 22,
   "id": "0ff8eb40-9b81-41f1-9767-6eff7f609547",
   "metadata": {},
   "outputs": [
    {
     "data": {
      "text/plain": [
       "15"
      ]
     },
     "execution_count": 22,
     "metadata": {},
     "output_type": "execute_result"
    }
   ],
   "source": [
    "myDog.age"
   ]
  },
  {
   "cell_type": "code",
   "execution_count": 23,
   "id": "8f352044-349f-4632-9ca8-6bf04beab514",
   "metadata": {},
   "outputs": [
    {
     "data": {
      "text/plain": [
       "105"
      ]
     },
     "execution_count": 23,
     "metadata": {},
     "output_type": "execute_result"
    }
   ],
   "source": [
    "myDog.humanAge()"
   ]
  },
  {
   "cell_type": "code",
   "execution_count": 24,
   "id": "d56f3aa3-8284-4f60-81ba-0c888d258019",
   "metadata": {},
   "outputs": [],
   "source": [
    "#CONSTRUCTOR İÇİNDE PARAMETRE OLARAK VERİLEN ŞEYLERE ORDA DEĞER  ATAYIP \n",
    "#KULLANICIDAN ALMASAK DA OLUR\n",
    "#ÖRNEK\n",
    "class Onion():\n",
    "    weight = 0;\n",
    "    def __init__(self,weight=5):\n",
    "        self.weight=weight"
   ]
  },
  {
   "cell_type": "code",
   "execution_count": 25,
   "id": "dd4d20a8-373f-4d3e-b83d-bd090e481699",
   "metadata": {},
   "outputs": [],
   "source": [
    "on1=Onion()#nesne oluşturduk Onion sınıfından "
   ]
  },
  {
   "cell_type": "markdown",
   "id": "bcac5766-6efb-47f0-8339-853d74b1b64b",
   "metadata": {},
   "source": [
    "## OOP KISMINA GİRELİM ARTIK 4 TEMEL İLKESİ VARDIR \n",
    "#İNHERİTANCE-ENCAPSULATİON-POLYMORPHİSM-ABSTRACTİON"
   ]
  },
  {
   "cell_type": "markdown",
   "id": "c3cfc4a2-0490-4cbb-9936-2a065a0cd637",
   "metadata": {},
   "source": [
    "## lesson 3 inheritance / kalıtım "
   ]
  },
  {
   "cell_type": "code",
   "execution_count": 28,
   "id": "ee5ca9fe-912a-4acb-ae0c-bf26010b0674",
   "metadata": {},
   "outputs": [],
   "source": [
    "class Müzisyen():\n",
    "    name=\"\"\n",
    "    \n",
    "    def __init__(self,name):\n",
    "        self.name=name\n",
    "        print(\"müzisyen sınıfı\")\n",
    "    def test1(self):\n",
    "        print(\"test1\")\n",
    "    def test2(self):\n",
    "        print(\"test2\")"
   ]
  },
  {
   "cell_type": "code",
   "execution_count": 29,
   "id": "55206b8a-9d5f-4f47-a238-075d97d2357d",
   "metadata": {},
   "outputs": [
    {
     "name": "stdout",
     "output_type": "stream",
     "text": [
      "müzisyen sınıfı\n"
     ]
    }
   ],
   "source": [
    "m1=Müzisyen(\"mehmet\")"
   ]
  },
  {
   "cell_type": "code",
   "execution_count": 30,
   "id": "c8074ded-6db1-4030-9cac-1264aa825bbf",
   "metadata": {},
   "outputs": [
    {
     "name": "stdout",
     "output_type": "stream",
     "text": [
      "test1\n"
     ]
    }
   ],
   "source": [
    "m1.test1()"
   ]
  },
  {
   "cell_type": "code",
   "execution_count": 31,
   "id": "60a89692-d925-48ca-bd35-41090d576143",
   "metadata": {},
   "outputs": [
    {
     "name": "stdout",
     "output_type": "stream",
     "text": [
      "test2\n"
     ]
    }
   ],
   "source": [
    "m1.test2()"
   ]
  },
  {
   "cell_type": "code",
   "execution_count": 32,
   "id": "2205f040-4900-43a4-bd91-259083d1b0a7",
   "metadata": {},
   "outputs": [],
   "source": [
    "#bir sınıfım daha olacak ve bu sınıf müzisyen sınıfındaki bazı şeyleri alacak\n",
    "#miras alacak kalıtım olacak yani"
   ]
  },
  {
   "cell_type": "code",
   "execution_count": 33,
   "id": "1173e3c2-8be8-4738-a7ff-2d1c4ac2f6e3",
   "metadata": {},
   "outputs": [
    {
     "data": {
      "text/plain": [
       "\"\\nclass UstSinif:  # (Parent / Base Class)\\n    # Özellikler ve metotlar\\n\\nclass AltSinif(UstSinif):  # (Child / Derived Class)\\n    # UstSinif'ten miras alır\\n    # Ek özellikler ve metotlar\\n\""
      ]
     },
     "execution_count": 33,
     "metadata": {},
     "output_type": "execute_result"
    }
   ],
   "source": [
    "#syntax\n",
    "\"\"\"\n",
    "class UstSinif:  # (Parent / Base Class)\n",
    "    # Özellikler ve metotlar\n",
    "\n",
    "class AltSinif(UstSinif):  # (Child / Derived Class)\n",
    "    # UstSinif'ten miras alır\n",
    "    # Ek özellikler ve metotlar\n",
    "\"\"\""
   ]
  },
  {
   "cell_type": "code",
   "execution_count": 34,
   "id": "5b17b393-023a-4765-b105-2175a846b356",
   "metadata": {},
   "outputs": [
    {
     "data": {
      "text/plain": [
       "'class MüzisyenPlus(Müzisyen):\\n    def __init__(self,name):#mesela bu sınıfın initinde name yazmak zorundasın super gibi düşün üst sınıfta var çünkü\\n        Müzisyen.__init__(self,name)\\n        print(\"müzisyen plus\")\\n      '"
      ]
     },
     "execution_count": 34,
     "metadata": {},
     "output_type": "execute_result"
    }
   ],
   "source": [
    "\"\"\"class MüzisyenPlus(Müzisyen):\n",
    "    def __init__(self,name):#mesela bu sınıfın initinde name yazmak zorundasın super gibi düşün üst sınıfta var çünkü\n",
    "        Müzisyen.__init__(self,name)\n",
    "        print(\"müzisyen plus\")\n",
    "      \"\"\"\n"
   ]
  },
  {
   "cell_type": "code",
   "execution_count": 58,
   "id": "b4b73a6a-e018-4af5-9a64-2f8de8d83eca",
   "metadata": {},
   "outputs": [
    {
     "ename": "NameError",
     "evalue": "name 'MüzisyenPlus' is not defined",
     "output_type": "error",
     "traceback": [
      "\u001b[1;31m---------------------------------------------------------------------------\u001b[0m",
      "\u001b[1;31mNameError\u001b[0m                                 Traceback (most recent call last)",
      "Cell \u001b[1;32mIn[58], line 1\u001b[0m\n\u001b[1;32m----> 1\u001b[0m m2\u001b[38;5;241m=\u001b[39mMüzisyenPlus(\u001b[38;5;124m\"\u001b[39m\u001b[38;5;124mmehmet\u001b[39m\u001b[38;5;124m\"\u001b[39m)\n",
      "\u001b[1;31mNameError\u001b[0m: name 'MüzisyenPlus' is not defined"
     ]
    }
   ],
   "source": [
    "m2=MüzisyenPlus(\"mehmet\")"
   ]
  },
  {
   "cell_type": "code",
   "execution_count": null,
   "id": "c8494d25-1d36-4c07-8f30-4835d8208a41",
   "metadata": {},
   "outputs": [],
   "source": [
    "#baba sınıfımız olan Müzisyende test1 metodu var mesela o metodun \n",
    "#aynısını burda tekrar aynı isimde yaparız ve değişir javadaki override mantığı\n",
    "class MüzisyenPlus(Müzisyen):\n",
    "    def __init__(self,name):\n",
    "        Müzisyen.__init__(self,name)\n",
    "        print(\"müzisyen plus\")\n",
    "    #override#baba sınıftaki metodun aynı isimdeki halinin değişik versiyonunun alt sınıfta kullanılması    \n",
    "    def test1(self):\n",
    "        print(\"override ettim yeni test1 metodu\")"
   ]
  },
  {
   "cell_type": "code",
   "execution_count": null,
   "id": "837fa875-970e-4f6c-aa77-bc63ad365fb1",
   "metadata": {},
   "outputs": [],
   "source": [
    "m2.test1()"
   ]
  },
  {
   "cell_type": "markdown",
   "id": "53157752-d5bf-4bbc-9c47-0ba34aef08a0",
   "metadata": {},
   "source": [
    "## lesson 4 - polymorphism - çok biçimlilik"
   ]
  },
  {
   "cell_type": "code",
   "execution_count": null,
   "id": "6c938a29-c24a-4e18-8249-f59a1a808006",
   "metadata": {},
   "outputs": [],
   "source": [
    "class Banana():\n",
    "    name =\"\"\n",
    "\n",
    "    def __init__(self,name):\n",
    "        self.name = name\n",
    "    def info(self):\n",
    "        return f\"100 calories {self.name}\"\n",
    "class Apple():\n",
    "    name =\"\"\n",
    "\n",
    "    def __init__(self,name):\n",
    "        self.name = name\n",
    "    def info(self):\n",
    "        return f\"150 calories {self.name}\"        "
   ]
  },
  {
   "cell_type": "code",
   "execution_count": null,
   "id": "5479590f-31fa-42ce-aec1-e82cd7028147",
   "metadata": {},
   "outputs": [],
   "source": [
    "banana=Banana(\"banana\")"
   ]
  },
  {
   "cell_type": "code",
   "execution_count": null,
   "id": "255f5787-7653-4e3b-bd07-95a770092fe3",
   "metadata": {},
   "outputs": [],
   "source": [
    "apple=Apple(\"apple\")"
   ]
  },
  {
   "cell_type": "code",
   "execution_count": null,
   "id": "f55540f8-a6e6-4fb5-9dd6-1f6637f89f27",
   "metadata": {},
   "outputs": [],
   "source": [
    "banana.info()"
   ]
  },
  {
   "cell_type": "code",
   "execution_count": null,
   "id": "355cbe0f-8459-4345-88e5-d5046a522d3d",
   "metadata": {},
   "outputs": [],
   "source": [
    "apple.info()"
   ]
  },
  {
   "cell_type": "code",
   "execution_count": null,
   "id": "1c667649-a405-4069-b40a-eaaea613e73a",
   "metadata": {},
   "outputs": [],
   "source": [
    "#2 sınıf var ikisinde de info metodu ortak dikkat et\n",
    "#sadece iç kısmı değişiyor\n",
    "#ÖZET aynı isimdeki bir metodun farklı nesneler üzerinde farklı şekillerde davranması anlamına gelir."
   ]
  },
  {
   "cell_type": "markdown",
   "id": "1c12a5a2-4e85-4ae9-bfec-a497b5ba93aa",
   "metadata": {},
   "source": [
    "## lesson 5 encapsulation - kapsülleme "
   ]
  },
  {
   "cell_type": "code",
   "execution_count": null,
   "id": "c41ebfaa-8d18-438d-9155-a9b9a530a056",
   "metadata": {},
   "outputs": [],
   "source": [
    "class Phone():\n",
    "    name = \"\"\n",
    "    price=0\n",
    "    def __init__(self,name,price):\n",
    "        self.name=name\n",
    "        self.__price=price\n",
    "    def info(self):\n",
    "        print(f\"{self.name} price is: {self.__price}\")"
   ]
  },
  {
   "cell_type": "code",
   "execution_count": null,
   "id": "241a9f75-cd82-40d2-9231-4209e0a7f821",
   "metadata": {},
   "outputs": [],
   "source": [
    "iphone=Phone(\"iphone14\",100000)"
   ]
  },
  {
   "cell_type": "code",
   "execution_count": null,
   "id": "5b00f3b1-20e6-4111-a4fa-51b8b5c92cb7",
   "metadata": {},
   "outputs": [],
   "source": [
    "iphone.info()"
   ]
  },
  {
   "cell_type": "code",
   "execution_count": null,
   "id": "95f955d8-fb34-47d3-b427-615851ec603a",
   "metadata": {},
   "outputs": [],
   "source": [
    "#mesela koda ulaşan biri istediği zaman\n",
    "#iphone.price =400 diyip değiştirebilir\n",
    "#kapsülleme bunu önler işte"
   ]
  },
  {
   "cell_type": "code",
   "execution_count": null,
   "id": "ba6f209e-6a3c-4da8-a956-569dbcbb3c56",
   "metadata": {},
   "outputs": [],
   "source": [
    "#javadaki mantıkla pythonda private yapmak istediğin değişkeni \n",
    "#initte selflediğin yerde önüne __ ekle böylece \n",
    "#daha sonra aynı sınıfta bile olsan o değişkeni her kullandığında __ olan hali ile kullanmalısın\n",
    "#o değişkene sadece o sınıftan erişilebilir olur \n",
    "#başka bir diyişle private olur"
   ]
  },
  {
   "cell_type": "code",
   "execution_count": null,
   "id": "a6ecf57d-8c40-46b1-a800-f3c464e81695",
   "metadata": {},
   "outputs": [],
   "source": [
    "#hiç _ olmayan düz hali public temsil eder\n",
    "#1 tane _ koyarsan protected temsil eder\n",
    "#2 tane _ koyarsan private temsil eder"
   ]
  },
  {
   "cell_type": "markdown",
   "id": "f8341037-24c7-43fb-a9a2-930b52916d28",
   "metadata": {},
   "source": [
    "## lesson 6 abstraction - soyutlama"
   ]
  },
  {
   "cell_type": "code",
   "execution_count": null,
   "id": "1135b57b-80e9-47a0-8435-b0d0ac0c9316",
   "metadata": {},
   "outputs": [],
   "source": [
    "#amacımız soyut sınıflar oluşturmak yani soyut sınıflardan nesne üretelim vs gibi\n",
    "#amacımız yok \n",
    "#zaten javada da pythonda da bir sınıf soyut sınıfsa nesne üretilmez o sınıftan"
   ]
  },
  {
   "cell_type": "code",
   "execution_count": null,
   "id": "ca45dab4-da6d-4a35-b41a-8eb8d9906d0c",
   "metadata": {},
   "outputs": [],
   "source": [
    "#pythonda direkt abs sağlayan bir keyword yok diğer dillerdeki gibi \n",
    "#ama bunun için bir sınıf oluşturmuşlar bunu kullanacağız"
   ]
  },
  {
   "cell_type": "code",
   "execution_count": null,
   "id": "303e47e0-a592-4c3d-89cb-4ba17529ddf6",
   "metadata": {},
   "outputs": [],
   "source": [
    "#aşağıda kullanacağımız sınıfı veriyorum"
   ]
  },
  {
   "cell_type": "code",
   "execution_count": 49,
   "id": "ce6bd5c9-9bda-464c-9bbc-363fb821ac83",
   "metadata": {},
   "outputs": [],
   "source": [
    "from abc import ABC, abstractmethod"
   ]
  },
  {
   "cell_type": "code",
   "execution_count": 51,
   "id": "6fb809a2-d8b3-4bcc-8eab-13eb7f513b49",
   "metadata": {},
   "outputs": [],
   "source": [
    "#bir sınıf nasıl abstract edilir örnek görelim\n",
    "class Car(ABC):\n",
    "\n",
    "    @abstractmethod\n",
    "    def maxSpeed(self):\n",
    "        pass"
   ]
  },
  {
   "cell_type": "code",
   "execution_count": 43,
   "id": "dc5941be-1fea-493c-8391-8dee258d587f",
   "metadata": {},
   "outputs": [],
   "source": [
    "#böylece sınıfımız souyt bir sınıf \n",
    "#metodumuz soyut bir metod oldu bundan nesne vs üretilmez "
   ]
  },
  {
   "cell_type": "code",
   "execution_count": null,
   "id": "f2027627-bbb3-42c0-b065-67116008ad06",
   "metadata": {},
   "outputs": [],
   "source": [
    "\"\"\"\n",
    "class Tesla(Car) yaparsın sonuçta car soyut sınıf nesne üretemeyiz sadece\n",
    "iskeletini kullanırız ama bunu yaptığın zaman hata verir \n",
    "nedeni şu abstract sınıfı içinde kullanıyorsan abstract sınıf içinde olan metodu \n",
    "mutlaka burda da override etmelisin çünkü onun iskeletini alıyorsun\n",
    "\"\"\""
   ]
  },
  {
   "cell_type": "markdown",
   "id": "22ba1c1e-b630-4776-bde7-24e9cde7b3ec",
   "metadata": {},
   "source": [
    "## lesson 7 özel metodlar"
   ]
  },
  {
   "cell_type": "code",
   "execution_count": 54,
   "id": "c9a2bc02-25ab-497d-8878-6346ce0b4b1a",
   "metadata": {},
   "outputs": [],
   "source": [
    "class Fruit():\n",
    "    name=\"\"\n",
    "    calories=0#bu değişkenler olmak zorunda değil söylemiştik ama ben yazıyorum\n",
    "    \n",
    "    def __init__(self,name,calories):\n",
    "        self.name=name\n",
    "        self.caloires=calories "
   ]
  },
  {
   "cell_type": "code",
   "execution_count": 56,
   "id": "5ef19314-12df-4e33-b871-b8f98dc923d4",
   "metadata": {},
   "outputs": [],
   "source": [
    "#burda verilecek bilgiler ezber olacağı için araştırma yapılarak bulunabilir\n",
    "#python special methods dersin çıkar\n"
   ]
  }
 ],
 "metadata": {
  "kernelspec": {
   "display_name": "Python [conda env:base] *",
   "language": "python",
   "name": "conda-base-py"
  },
  "language_info": {
   "codemirror_mode": {
    "name": "ipython",
    "version": 3
   },
   "file_extension": ".py",
   "mimetype": "text/x-python",
   "name": "python",
   "nbconvert_exporter": "python",
   "pygments_lexer": "ipython3",
   "version": "3.12.7"
  }
 },
 "nbformat": 4,
 "nbformat_minor": 5
}
