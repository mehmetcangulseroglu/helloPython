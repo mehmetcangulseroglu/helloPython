{
 "cells": [
  {
   "cell_type": "markdown",
   "id": "d7434ba7-2379-4b11-b745-f24dfca41890",
   "metadata": {},
   "source": [
    "## fonksiyonlar "
   ]
  },
  {
   "cell_type": "code",
   "execution_count": 4,
   "id": "4ac804de-1404-4faf-bb65-8c9705d05705",
   "metadata": {},
   "outputs": [],
   "source": [
    "#method ve fonksiyon aslında aynı şeyler diyebiliriz"
   ]
  },
  {
   "cell_type": "code",
   "execution_count": 8,
   "id": "f72171df-f436-4f72-a999-ebec80b1e4c5",
   "metadata": {},
   "outputs": [],
   "source": [
    "#def anahtar kelimesini kullanırız define yani tanımlamaktan gelir.\n",
    "#daha sonra fonksiyona isim veririz\n",
    "#araya kodları yazarız vee return yazarız "
   ]
  },
  {
   "cell_type": "code",
   "execution_count": 12,
   "id": "5e2058e0-30e9-4962-89cf-fae56d71438c",
   "metadata": {},
   "outputs": [],
   "source": [
    "def helloPython():\n",
    "    print(\"merhaba ilk fonksiyon yazıldı\")"
   ]
  },
  {
   "cell_type": "code",
   "execution_count": 14,
   "id": "5fe7f103-0dbc-4efa-877b-428e0315347c",
   "metadata": {},
   "outputs": [
    {
     "name": "stdout",
     "output_type": "stream",
     "text": [
      "merhaba ilk fonksiyon yazıldı\n"
     ]
    }
   ],
   "source": [
    "#fonksiyonu çağır\n",
    "helloPython()"
   ]
  },
  {
   "cell_type": "code",
   "execution_count": 16,
   "id": "48e8abee-1b5f-45b2-96be-a4a114614c17",
   "metadata": {},
   "outputs": [],
   "source": [
    "#fonksiyonlar girdi alabilir\n",
    "def helloName(name):\n",
    "    print(\"hello\")\n",
    "    print(name)"
   ]
  },
  {
   "cell_type": "code",
   "execution_count": 20,
   "id": "9e4221b1-fc44-4c97-833b-0832c3664fa1",
   "metadata": {},
   "outputs": [],
   "source": [
    "#helloName()#şeklinde çalıştıramazsın hata verir çünkü sen ona girdi verdin çağırırken de vermelisin"
   ]
  },
  {
   "cell_type": "code",
   "execution_count": 22,
   "id": "de396b62-5629-417a-8c4f-89e0868621c2",
   "metadata": {},
   "outputs": [
    {
     "name": "stdout",
     "output_type": "stream",
     "text": [
      "hello\n",
      "mehmet\n"
     ]
    }
   ],
   "source": [
    "helloName(\"mehmet\")"
   ]
  },
  {
   "cell_type": "code",
   "execution_count": 24,
   "id": "119af066-e9f5-40f1-8a85-d3ae7c392ba6",
   "metadata": {},
   "outputs": [],
   "source": [
    "def toplama(sayi1,sayi2):\n",
    "    print(sayi1+sayi2)"
   ]
  },
  {
   "cell_type": "code",
   "execution_count": 28,
   "id": "7f446319-c576-453a-9446-ca132df00f7a",
   "metadata": {},
   "outputs": [
    {
     "name": "stdout",
     "output_type": "stream",
     "text": [
      "15\n"
     ]
    }
   ],
   "source": [
    "toplama(5,10)"
   ]
  },
  {
   "cell_type": "code",
   "execution_count": 30,
   "id": "f2ef0548-3cb2-4a0d-bbbe-265deaba5120",
   "metadata": {},
   "outputs": [],
   "source": [
    "#parametrenin değerini baştan da verebiliriz\n",
    "def helloSurname(surname=\"gulseroglu\"):\n",
    "    print(surname)"
   ]
  },
  {
   "cell_type": "code",
   "execution_count": 34,
   "id": "032254d4-ef30-498a-a3d9-f9db6f472123",
   "metadata": {},
   "outputs": [
    {
     "name": "stdout",
     "output_type": "stream",
     "text": [
      "gulseroglu\n"
     ]
    }
   ],
   "source": [
    "helloSurname()"
   ]
  },
  {
   "cell_type": "code",
   "execution_count": 11,
   "id": "f9060594-83c8-49b2-bf52-1f6a8f9f9b45",
   "metadata": {},
   "outputs": [],
   "source": [
    "#fonksiyonlar çıktı verebilir return kısmına bakalım fonksiyonlarda\n",
    "#return satırı fonksiyonda en sonda yazılır ordan sonra işlem olmaz aklında bulunsun"
   ]
  },
  {
   "cell_type": "code",
   "execution_count": 13,
   "id": "9b894b2e-0533-4ad1-a2b1-2b9deb276a0e",
   "metadata": {},
   "outputs": [],
   "source": [
    "def toplama(num1,num2,num3):\n",
    "    return num1+num2+num3\n",
    "#bu fonksiyon bana bu değeri döndürecek artık"
   ]
  },
  {
   "cell_type": "code",
   "execution_count": 15,
   "id": "0eebf108-c807-40ee-8e11-55a48c52d69b",
   "metadata": {},
   "outputs": [
    {
     "data": {
      "text/plain": [
       "60"
      ]
     },
     "execution_count": 15,
     "metadata": {},
     "output_type": "execute_result"
    }
   ],
   "source": [
    "toplama(10,20,30)"
   ]
  },
  {
   "cell_type": "code",
   "execution_count": 19,
   "id": "26715f72-6681-4fe2-8246-f041ff713c25",
   "metadata": {},
   "outputs": [],
   "source": [
    "def kontrolFonk(s):\n",
    "   if s[0] == \"a\":\n",
    "       print(\"a\")\n",
    "   else:\n",
    "       print(\"başka harf ile başlar\")"
   ]
  },
  {
   "cell_type": "code",
   "execution_count": 21,
   "id": "a62892b1-c52e-41e1-8595-aef163888cdf",
   "metadata": {},
   "outputs": [
    {
     "name": "stdout",
     "output_type": "stream",
     "text": [
      "a\n"
     ]
    }
   ],
   "source": [
    "kontrolFonk(\"ahmet\")"
   ]
  },
  {
   "cell_type": "code",
   "execution_count": 23,
   "id": "3e9b72fe-b584-4055-bddf-5582d716954a",
   "metadata": {},
   "outputs": [
    {
     "name": "stdout",
     "output_type": "stream",
     "text": [
      "başka harf ile başlar\n"
     ]
    }
   ],
   "source": [
    "kontrolFonk(\"mehmet\")"
   ]
  },
  {
   "cell_type": "markdown",
   "id": "cb15efc6-3278-4dce-8201-c7fe9cacbcdf",
   "metadata": {},
   "source": [
    "## bazı python özel - hazır fonksiyonlarına bakalım"
   ]
  },
  {
   "cell_type": "code",
   "execution_count": 32,
   "id": "a9e363bb-5acf-4775-9fb0-e7163a21ba2c",
   "metadata": {},
   "outputs": [],
   "source": [
    "#normal bir fonksiyon yazalım önce\n",
    "def divideNumber(number):\n",
    "    return number/2"
   ]
  },
  {
   "cell_type": "code",
   "execution_count": 36,
   "id": "9f2dbaf5-b958-40dc-be03-8d8b386541ad",
   "metadata": {},
   "outputs": [
    {
     "data": {
      "text/plain": [
       "10.0"
      ]
     },
     "execution_count": 36,
     "metadata": {},
     "output_type": "execute_result"
    }
   ],
   "source": [
    "divideNumber(20)"
   ]
  },
  {
   "cell_type": "code",
   "execution_count": 66,
   "id": "69b3873e-4b69-45d9-875a-602b558eba57",
   "metadata": {},
   "outputs": [],
   "source": [
    "myList=[3,5,7,10,20,30]\n",
    "myResultList=[]"
   ]
  },
  {
   "cell_type": "code",
   "execution_count": 68,
   "id": "d3867f9d-e06c-49a2-9317-78bcd73d7602",
   "metadata": {},
   "outputs": [
    {
     "name": "stdout",
     "output_type": "stream",
     "text": [
      "[1.5, 2.5, 3.5, 5.0, 10.0, 15.0]\n"
     ]
    }
   ],
   "source": [
    "for i in myList:\n",
    "    sonuc=divideNumber(i)\n",
    "    myResultList.append(sonuc)\n",
    "print(myResultList)"
   ]
  },
  {
   "cell_type": "markdown",
   "id": "f9724e1d-bf43-4ae9-90cb-21ce01dcad12",
   "metadata": {},
   "source": [
    "## map"
   ]
  },
  {
   "cell_type": "code",
   "execution_count": 81,
   "id": "05c36db2-95ff-454d-9705-64b4acd4fed2",
   "metadata": {},
   "outputs": [],
   "source": [
    "#map fonksiyonu bir listeyi veya koleksiyonu alıp ona bazı işlemler yapıyor\n",
    "#daha önceden tanımlı bir sınıf\n",
    "#örneğin map(divideNumber,myList) yaparsak mylist içindeki herşeye divideNumberı  uyguluyor böyle oku sağdakilere solu uyguluyor"
   ]
  },
  {
   "cell_type": "code",
   "execution_count": 75,
   "id": "92a62785-b415-4201-9ce8-b49b90904e2b",
   "metadata": {},
   "outputs": [
    {
     "data": {
      "text/plain": [
       "<map at 0x228b2126260>"
      ]
     },
     "execution_count": 75,
     "metadata": {},
     "output_type": "execute_result"
    }
   ],
   "source": [
    "#ama sonucu uyguladım diyor hafızada şu yere kaydettim der\n",
    "map(divideNumber,myList)"
   ]
  },
  {
   "cell_type": "code",
   "execution_count": 77,
   "id": "708454de-c04a-4b48-9448-345e95f78561",
   "metadata": {},
   "outputs": [
    {
     "data": {
      "text/plain": [
       "[1.5, 2.5, 3.5, 5.0, 10.0, 15.0]"
      ]
     },
     "execution_count": 77,
     "metadata": {},
     "output_type": "execute_result"
    }
   ],
   "source": [
    "#bu sonucu sen listeye vs çevirip görebilirsin diyor ki hafızada şu yere kaydettim\n",
    "list(map(divideNumber,myList))"
   ]
  },
  {
   "cell_type": "code",
   "execution_count": 79,
   "id": "27bc4974-494f-48ed-b101-220e08acd117",
   "metadata": {},
   "outputs": [],
   "source": [
    "#yani yukarda satır 68 de yapılan yerine bu yapılabilirmiş"
   ]
  },
  {
   "cell_type": "markdown",
   "id": "c701f054-cff4-4ec0-929a-ff824f570d77",
   "metadata": {},
   "source": [
    "## filter"
   ]
  },
  {
   "cell_type": "code",
   "execution_count": 93,
   "id": "c35c471d-1a9a-408a-a193-d1e3830e6982",
   "metadata": {},
   "outputs": [],
   "source": [
    "#kullanımı aynı map ile\n",
    "def controlString(name):\n",
    "    return \"mehmet\" in name"
   ]
  },
  {
   "cell_type": "code",
   "execution_count": 105,
   "id": "a01366ad-1923-43a3-8896-9f19bdbd6dad",
   "metadata": {},
   "outputs": [],
   "source": [
    "myStringList=[\"mehmet ali\",\"mehmet can\",\"gulseroglu\",\"ahmetcan\"]"
   ]
  },
  {
   "cell_type": "code",
   "execution_count": 107,
   "id": "1d97c98a-0c36-41d9-a198-4e0de05b01f9",
   "metadata": {},
   "outputs": [
    {
     "data": {
      "text/plain": [
       "<filter at 0x228b2e01f30>"
      ]
     },
     "execution_count": 107,
     "metadata": {},
     "output_type": "execute_result"
    }
   ],
   "source": [
    "filter(controlString,myStringList)"
   ]
  },
  {
   "cell_type": "code",
   "execution_count": 109,
   "id": "6b69d309-eae1-4e03-9ae4-a5465076332b",
   "metadata": {},
   "outputs": [
    {
     "data": {
      "text/plain": [
       "['mehmet ali', 'mehmet can']"
      ]
     },
     "execution_count": 109,
     "metadata": {},
     "output_type": "execute_result"
    }
   ],
   "source": [
    "list(filter(controlString,myStringList))"
   ]
  },
  {
   "cell_type": "markdown",
   "id": "46c24feb-ada7-49ac-b17d-d96012f82aa8",
   "metadata": {},
   "source": [
    "## lambda"
   ]
  },
  {
   "cell_type": "code",
   "execution_count": 114,
   "id": "df74398b-972c-43bb-bde3-507046700072",
   "metadata": {
    "scrolled": true
   },
   "outputs": [
    {
     "data": {
      "text/plain": [
       "\"\\nPython'da lambda, küçük, isimsiz (anonim) fonksiyonlar tanımlamak için kullanılır. Genellikle tek satırlık ve kısa işlemler için tercih edilir.\\n\\nSöz Dizimi (Syntax):\\n\\nlambda parametreler: ifade\\n\\nBu yapı şu anlama gelir:\\nparametreler: Fonksiyona verilecek girişler (argümanlar).\\nifade: Geri döndürülecek değer (return yazılmaz ama otomatik olarak döner).\\n\\nörneğin:\\ntopla = lambda x, y: x + y\\nprint(topla(3, 5))  # Çıktı: 8\\n\""
      ]
     },
     "execution_count": 114,
     "metadata": {},
     "output_type": "execute_result"
    }
   ],
   "source": [
    "\"\"\"\n",
    "Python'da lambda, küçük, isimsiz (anonim) fonksiyonlar tanımlamak için kullanılır. Genellikle tek satırlık ve kısa işlemler için tercih edilir.\n",
    "\n",
    "Söz Dizimi (Syntax):\n",
    "\n",
    "lambda parametreler: ifade\n",
    "\n",
    "Bu yapı şu anlama gelir:\n",
    "parametreler: Fonksiyona verilecek girişler (argümanlar).\n",
    "ifade: Geri döndürülecek değer (return yazılmaz ama otomatik olarak döner).\n",
    "\n",
    "örneğin:\n",
    "topla = lambda x, y: x + y\n",
    "print(topla(3, 5))  # Çıktı: 8\n",
    "\"\"\""
   ]
  },
  {
   "cell_type": "markdown",
   "id": "f2dbe092-951e-49d2-857e-977b0ff2618e",
   "metadata": {},
   "source": [
    "## scope"
   ]
  },
  {
   "cell_type": "code",
   "execution_count": 123,
   "id": "e6110fb0-8c91-40af-a9fc-cea9d4437793",
   "metadata": {},
   "outputs": [],
   "source": [
    "x = 20\n",
    "\n",
    "def multiply(num):\n",
    "    x = 5\n",
    "    return num * x"
   ]
  },
  {
   "cell_type": "code",
   "execution_count": 125,
   "id": "6e4fc416-da42-40e8-a9ed-dbec6d06e9b6",
   "metadata": {},
   "outputs": [
    {
     "data": {
      "text/plain": [
       "50"
      ]
     },
     "execution_count": 125,
     "metadata": {},
     "output_type": "execute_result"
    }
   ],
   "source": [
    "multiply(10)"
   ]
  },
  {
   "cell_type": "code",
   "execution_count": 129,
   "id": "07b4db3c-5bd1-4924-95d1-59042c37cd69",
   "metadata": {},
   "outputs": [
    {
     "name": "stdout",
     "output_type": "stream",
     "text": [
      "20\n"
     ]
    }
   ],
   "source": [
    "print(x)"
   ]
  },
  {
   "cell_type": "code",
   "execution_count": 131,
   "id": "6765ef2d-3ea4-4b22-b068-bc82839a645b",
   "metadata": {},
   "outputs": [],
   "source": [
    "a = 10"
   ]
  },
  {
   "cell_type": "code",
   "execution_count": 133,
   "id": "1074cca2-15ee-4926-9256-820b2011b1b4",
   "metadata": {},
   "outputs": [
    {
     "data": {
      "text/plain": [
       "10"
      ]
     },
     "execution_count": 133,
     "metadata": {},
     "output_type": "execute_result"
    }
   ],
   "source": [
    "a"
   ]
  },
  {
   "cell_type": "code",
   "execution_count": 137,
   "id": "2b878721-fe08-457e-a4e9-32adddc20e64",
   "metadata": {},
   "outputs": [],
   "source": [
    "a = 20"
   ]
  },
  {
   "cell_type": "code",
   "execution_count": 139,
   "id": "67085abb-934d-4904-9729-c4fb1c48d6b3",
   "metadata": {},
   "outputs": [
    {
     "data": {
      "text/plain": [
       "20"
      ]
     },
     "execution_count": 139,
     "metadata": {},
     "output_type": "execute_result"
    }
   ],
   "source": [
    "a"
   ]
  },
  {
   "cell_type": "code",
   "execution_count": 141,
   "id": "237e26cc-2307-4769-bf30-aaf817b0f88c",
   "metadata": {},
   "outputs": [
    {
     "data": {
      "text/plain": [
       "20"
      ]
     },
     "execution_count": 141,
     "metadata": {},
     "output_type": "execute_result"
    }
   ],
   "source": [
    "x"
   ]
  },
  {
   "cell_type": "code",
   "execution_count": 143,
   "id": "18964bc1-1bdf-4c04-8309-2d6a54a505c5",
   "metadata": {},
   "outputs": [],
   "source": [
    "x = 20\n",
    "\n",
    "def multiply(num):\n",
    "    x = 5\n",
    "    return num * x\n",
    "\n",
    "x = 10"
   ]
  },
  {
   "cell_type": "code",
   "execution_count": 145,
   "id": "1c83f95e-6cb4-47a0-b552-1b0d2c79c464",
   "metadata": {},
   "outputs": [
    {
     "data": {
      "text/plain": [
       "10"
      ]
     },
     "execution_count": 145,
     "metadata": {},
     "output_type": "execute_result"
    }
   ],
   "source": [
    "x"
   ]
  },
  {
   "cell_type": "code",
   "execution_count": 147,
   "id": "ae68d930-6a56-480e-b629-9a1b3472e871",
   "metadata": {},
   "outputs": [
    {
     "data": {
      "text/plain": [
       "15"
      ]
     },
     "execution_count": 147,
     "metadata": {},
     "output_type": "execute_result"
    }
   ],
   "source": [
    "multiply(3)"
   ]
  },
  {
   "cell_type": "code",
   "execution_count": 149,
   "id": "bdcbf96f-92f5-436e-bd85-48826fac1a4e",
   "metadata": {},
   "outputs": [],
   "source": [
    "x = 20\n",
    "\n",
    "def multiply(num):\n",
    "    return num * x"
   ]
  },
  {
   "cell_type": "code",
   "execution_count": 151,
   "id": "db94df1e-3506-4aab-9d1a-bef8cecbdfe0",
   "metadata": {},
   "outputs": [
    {
     "data": {
      "text/plain": [
       "200"
      ]
     },
     "execution_count": 151,
     "metadata": {},
     "output_type": "execute_result"
    }
   ],
   "source": [
    "multiply(10)"
   ]
  },
  {
   "cell_type": "markdown",
   "id": "8e6508ae-3966-4f09-b62b-a30aeebad5a3",
   "metadata": {},
   "source": [
    "## LEGB -> L->Local, E-> Enclosing, G->Global, B->Built-In"
   ]
  },
  {
   "cell_type": "code",
   "execution_count": 154,
   "id": "5a90932b-8f03-409c-9475-c8dc4a71cc70",
   "metadata": {},
   "outputs": [],
   "source": [
    "#öncelik sırası gibi düşün scope mantığında"
   ]
  },
  {
   "cell_type": "code",
   "execution_count": 164,
   "id": "07e34ecb-de5b-42d5-815d-b55b98635aad",
   "metadata": {},
   "outputs": [],
   "source": [
    "#Global\n",
    "#işte fonk içinde değişken varsa ordan alır yoksa bir üstüne bakar onu alır yoksa genele bakar onu alır vs vs\n",
    "myString = \"Mehmet\"\n",
    "\n",
    "def myFunction():\n",
    "    #Enclosing\n",
    "    myString = \"Mehmet 2\"\n",
    "    print(myString)\n",
    "    \n",
    "    def myFunction2():\n",
    "        #Local\n",
    "        myString = \"Mehmet 3\"\n",
    "        print(myString)\n",
    "    \n",
    "    myFunction2()"
   ]
  },
  {
   "cell_type": "code",
   "execution_count": 166,
   "id": "330faecc-3643-484d-9add-6bc1a2a6aaff",
   "metadata": {},
   "outputs": [
    {
     "data": {
      "text/plain": [
       "'Mehmet'"
      ]
     },
     "execution_count": 166,
     "metadata": {},
     "output_type": "execute_result"
    }
   ],
   "source": [
    "myString"
   ]
  },
  {
   "cell_type": "code",
   "execution_count": 168,
   "id": "ba5145a2-df36-4b06-8605-9b4562579d1e",
   "metadata": {},
   "outputs": [
    {
     "name": "stdout",
     "output_type": "stream",
     "text": [
      "Mehmet 2\n",
      "Mehmet 3\n"
     ]
    }
   ],
   "source": [
    "myFunction()"
   ]
  },
  {
   "cell_type": "code",
   "execution_count": 170,
   "id": "34d93cee-9f2c-4ea7-8827-5f147ebc994c",
   "metadata": {},
   "outputs": [
    {
     "data": {
      "text/plain": [
       "'Mehmet'"
      ]
     },
     "execution_count": 170,
     "metadata": {},
     "output_type": "execute_result"
    }
   ],
   "source": [
    "myString"
   ]
  },
  {
   "cell_type": "code",
   "execution_count": 174,
   "id": "fd1a0b7e-8b29-42ed-b3e0-0c924f90f190",
   "metadata": {},
   "outputs": [],
   "source": [
    "def test1():\n",
    "    myX= 10\n",
    "    print(myX * 2)\n",
    "\n",
    "def test2():\n",
    "    print(myX * 3)"
   ]
  },
  {
   "cell_type": "code",
   "execution_count": 176,
   "id": "e3d2a4f1-87f8-4a92-9d59-e3c14126e3d0",
   "metadata": {},
   "outputs": [
    {
     "name": "stdout",
     "output_type": "stream",
     "text": [
      "20\n"
     ]
    }
   ],
   "source": [
    "test1()"
   ]
  },
  {
   "cell_type": "code",
   "execution_count": 198,
   "id": "0ddfd6d5-f4a2-4200-ab6d-09fe299b60f6",
   "metadata": {},
   "outputs": [],
   "source": [
    "#test2() hata verir kapsamda yok "
   ]
  },
  {
   "cell_type": "code",
   "execution_count": 180,
   "id": "deda0d3a-db29-4bcf-a730-13ef56c225a8",
   "metadata": {},
   "outputs": [],
   "source": [
    "y = 10\n",
    "def newFunction(y):\n",
    "    print(y)\n",
    "    y = 5\n",
    "    print(y)\n",
    "    return y"
   ]
  },
  {
   "cell_type": "code",
   "execution_count": 200,
   "id": "314ed74c-0a20-4d49-b29a-04eb7c26815d",
   "metadata": {},
   "outputs": [
    {
     "name": "stdout",
     "output_type": "stream",
     "text": [
      "10\n",
      "5\n"
     ]
    },
    {
     "data": {
      "text/plain": [
       "5"
      ]
     },
     "execution_count": 200,
     "metadata": {},
     "output_type": "execute_result"
    }
   ],
   "source": [
    "newFunction(10)"
   ]
  },
  {
   "cell_type": "code",
   "execution_count": 202,
   "id": "1f081f3b-eab8-4b82-a2d5-5dd0a4b289a4",
   "metadata": {},
   "outputs": [
    {
     "data": {
      "text/plain": [
       "5"
      ]
     },
     "execution_count": 202,
     "metadata": {},
     "output_type": "execute_result"
    }
   ],
   "source": [
    "y"
   ]
  },
  {
   "cell_type": "code",
   "execution_count": 204,
   "id": "7a1d3265-a818-460d-8e59-f6b11f667d66",
   "metadata": {},
   "outputs": [],
   "source": [
    "y = 10\n",
    "\n",
    "def changeY():\n",
    "    global y #global olarak kullanılan y yi kullanacam bunun içinde diyor 10 olanı yani\n",
    "    y = 5\n",
    "    print(y)"
   ]
  },
  {
   "cell_type": "code",
   "execution_count": 188,
   "id": "0c596a6e-c614-479b-b872-aa95833e5a4b",
   "metadata": {},
   "outputs": [
    {
     "name": "stdout",
     "output_type": "stream",
     "text": [
      "5\n"
     ]
    }
   ],
   "source": [
    "changeY()"
   ]
  },
  {
   "cell_type": "code",
   "execution_count": 206,
   "id": "66d5a8fa-a6f1-4079-a57f-ab32a6afbee2",
   "metadata": {},
   "outputs": [
    {
     "data": {
      "text/plain": [
       "10"
      ]
     },
     "execution_count": 206,
     "metadata": {},
     "output_type": "execute_result"
    }
   ],
   "source": [
    "y"
   ]
  }
 ],
 "metadata": {
  "kernelspec": {
   "display_name": "Python [conda env:base] *",
   "language": "python",
   "name": "conda-base-py"
  },
  "language_info": {
   "codemirror_mode": {
    "name": "ipython",
    "version": 3
   },
   "file_extension": ".py",
   "mimetype": "text/x-python",
   "name": "python",
   "nbconvert_exporter": "python",
   "pygments_lexer": "ipython3",
   "version": "3.12.7"
  }
 },
 "nbformat": 4,
 "nbformat_minor": 5
}
