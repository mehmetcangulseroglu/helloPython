{
 "cells": [
  {
   "cell_type": "markdown",
   "id": "60a2481b-d21c-4897-97a0-cf9d1461905a",
   "metadata": {},
   "source": [
    "## quiz"
   ]
  },
  {
   "cell_type": "code",
   "execution_count": 6,
   "id": "72984350-a843-4ecf-a2f7-426568e3245e",
   "metadata": {},
   "outputs": [],
   "source": [
    "# 1) Asagidaki string'in 5. harfini bir degiskene atayiniz\n",
    "my_string = \"Python Ogreniyorum\""
   ]
  },
  {
   "cell_type": "code",
   "execution_count": 8,
   "id": "66f5a241-687b-4c72-964c-4b124feb21cd",
   "metadata": {},
   "outputs": [],
   "source": [
    "d1=my_string[4]"
   ]
  },
  {
   "cell_type": "code",
   "execution_count": 10,
   "id": "a3e6af38-fdf1-4bd6-83e5-a6f418b97b2b",
   "metadata": {},
   "outputs": [
    {
     "name": "stdout",
     "output_type": "stream",
     "text": [
      "o\n"
     ]
    }
   ],
   "source": [
    "print(d1)"
   ]
  },
  {
   "cell_type": "code",
   "execution_count": 12,
   "id": "07221e7d-3655-4978-9384-957524d8dfff",
   "metadata": {},
   "outputs": [],
   "source": [
    "# 2) Asagidaki String'in 5. ve 8. karakteri arasindaki tum harflerini yazdiriniz (5 ve 8 dahil)\n",
    "my_new_string = \"ProgramlamayaMerhabaDedik\""
   ]
  },
  {
   "cell_type": "code",
   "execution_count": 73,
   "id": "bdacd2bb-53df-4763-852f-e9a24958cec8",
   "metadata": {},
   "outputs": [
    {
     "data": {
      "text/plain": [
       "'raml'"
      ]
     },
     "execution_count": 73,
     "metadata": {},
     "output_type": "execute_result"
    }
   ],
   "source": [
    "my_new_string[4:8:1]"
   ]
  },
  {
   "cell_type": "code",
   "execution_count": 16,
   "id": "0ea20a9a-6c97-4608-b04d-cba118f211a5",
   "metadata": {},
   "outputs": [],
   "source": [
    "# 3) Asagidaki String'i kod ile tersten yazin\n",
    "my_last_string = \"Afyonkarahisarlilastiramadiklarimizdanmisiniz\""
   ]
  },
  {
   "cell_type": "code",
   "execution_count": 38,
   "id": "8d443754-f46d-483f-8760-b41c54901bfd",
   "metadata": {},
   "outputs": [
    {
     "data": {
      "text/plain": [
       "'zinisimnadzimiralkidamaritsalilrasiharaknoyfA'"
      ]
     },
     "execution_count": 38,
     "metadata": {},
     "output_type": "execute_result"
    }
   ],
   "source": [
    "my_last_string[::-1]"
   ]
  },
  {
   "cell_type": "code",
   "execution_count": 40,
   "id": "4f4bf56e-df04-45c2-9fb0-77c2ca73f74b",
   "metadata": {},
   "outputs": [
    {
     "data": {
      "text/plain": [
       "64.2"
      ]
     },
     "execution_count": 40,
     "metadata": {},
     "output_type": "execute_result"
    }
   ],
   "source": [
    "# 4) Asagidaki islemin sonucu hangi veri tipinde olacaktir?\n",
    "4 + 12.2 + 48"
   ]
  },
  {
   "cell_type": "code",
   "execution_count": 43,
   "id": "4a663f54-f2ac-4f9b-9d1e-2b2eb45f1a2c",
   "metadata": {},
   "outputs": [
    {
     "data": {
      "text/plain": [
       "89"
      ]
     },
     "execution_count": 43,
     "metadata": {},
     "output_type": "execute_result"
    }
   ],
   "source": [
    "# 5) Asagidaki islemin sonucu kactir?\n",
    "5 + 7 * 12"
   ]
  },
  {
   "cell_type": "code",
   "execution_count": 45,
   "id": "cb982130-93c5-4053-9fdf-49b7eb6f3d76",
   "metadata": {},
   "outputs": [],
   "source": [
    "# 6) Bu listeyi en az 2 farkli yoldan olusturunuz: [1,3,\"a\"]"
   ]
  },
  {
   "cell_type": "code",
   "execution_count": null,
   "id": "536a4a8d-03b9-49b0-be17-7765f1845a8c",
   "metadata": {},
   "outputs": [],
   "source": [
    "myList=[1,3,\"a\"]"
   ]
  },
  {
   "cell_type": "code",
   "execution_count": null,
   "id": "390230d0-28df-45fa-a2ea-690349cccefe",
   "metadata": {},
   "outputs": [],
   "source": [
    "myList=list()"
   ]
  },
  {
   "cell_type": "code",
   "execution_count": null,
   "id": "e0edb0bb-462a-4bf0-aac7-703150070fb6",
   "metadata": {},
   "outputs": [],
   "source": [
    "myList.append(1)\n",
    "#diye devam edip eklersin"
   ]
  },
  {
   "cell_type": "code",
   "execution_count": 55,
   "id": "3c86ddf6-ce77-4aa1-ae96-2e10928d79a7",
   "metadata": {},
   "outputs": [],
   "source": [
    "#aşağıdaki satırda b yi tek satirda aliniz"
   ]
  },
  {
   "cell_type": "code",
   "execution_count": 57,
   "id": "47d72b80-c147-4d3f-af81-699b591dc43c",
   "metadata": {},
   "outputs": [
    {
     "data": {
      "text/plain": [
       "'b'"
      ]
     },
     "execution_count": 57,
     "metadata": {},
     "output_type": "execute_result"
    }
   ],
   "source": [
    "my_list[2][2]"
   ]
  },
  {
   "cell_type": "code",
   "execution_count": 59,
   "id": "e06179f9-c3e4-4da6-b65a-1e9bc07e87b8",
   "metadata": {},
   "outputs": [],
   "source": [
    "# 8) Asagidaki \"a\"'yi tek satirda aliniz:\n",
    "my_dictionary = {\"key1\":20.25, \"kk2\":[40,{\"k21\":\"a\"}]}"
   ]
  },
  {
   "cell_type": "code",
   "execution_count": 63,
   "id": "ba60bd19-8952-409a-a172-0945bcd13381",
   "metadata": {},
   "outputs": [
    {
     "data": {
      "text/plain": [
       "'a'"
      ]
     },
     "execution_count": 63,
     "metadata": {},
     "output_type": "execute_result"
    }
   ],
   "source": [
    "my_dictionary[\"kk2\"][1][\"k21\"]"
   ]
  },
  {
   "cell_type": "code",
   "execution_count": 65,
   "id": "1a74b76b-e927-4c3b-af86-18b6ad190841",
   "metadata": {},
   "outputs": [],
   "source": [
    "# 9) Asagidaki liste set'e cevirilince hangi degerler icinde kalacaktir?\n",
    "my_list_to_be_set = [3,4,9,3,21,22,4,3,9,10,21,22]"
   ]
  },
  {
   "cell_type": "code",
   "execution_count": 67,
   "id": "de203974-e458-4993-8fef-0cc71a9e07b2",
   "metadata": {},
   "outputs": [],
   "source": [
    "#aynı olmayan değerler..."
   ]
  },
  {
   "cell_type": "code",
   "execution_count": 69,
   "id": "b9d00451-d600-42bd-9ea9-cdd724462083",
   "metadata": {},
   "outputs": [
    {
     "data": {
      "text/plain": [
       "True"
      ]
     },
     "execution_count": 69,
     "metadata": {},
     "output_type": "execute_result"
    }
   ],
   "source": [
    "# 10) Asagidaki ifadenin sonucu ne olacaktir?\n",
    "x = 30 * 5 + 3\n",
    "y = 108 - 2 * 4\n",
    "x > y"
   ]
  }
 ],
 "metadata": {
  "kernelspec": {
   "display_name": "Python [conda env:base] *",
   "language": "python",
   "name": "conda-base-py"
  },
  "language_info": {
   "codemirror_mode": {
    "name": "ipython",
    "version": 3
   },
   "file_extension": ".py",
   "mimetype": "text/x-python",
   "name": "python",
   "nbconvert_exporter": "python",
   "pygments_lexer": "ipython3",
   "version": "3.12.7"
  }
 },
 "nbformat": 4,
 "nbformat_minor": 5
}
