{
 "cells": [
  {
   "cell_type": "markdown",
   "id": "1d8c86b2-4998-49b0-8f25-2576511bf835",
   "metadata": {},
   "source": [
    "## DAY 1 --- VARİABLES\n",
    "not =>>> ## ile başlık oluşturabilirsin\n",
    "shift + enter ile ilgili satırdaki kodu çalıştırabilirsin."
   ]
  },
  {
   "cell_type": "markdown",
   "id": "6bf13152-6374-4ba4-a7d2-fa2812338542",
   "metadata": {},
   "source": [
    "## ile yazdıktan sonra shift + enter yap başlık olur unutma yukarda markdown seçili olmalı yoksa yorum satırı olur"
   ]
  },
  {
   "cell_type": "code",
   "execution_count": 3,
   "id": "5819836f-004b-4ecb-8c73-7461c314caed",
   "metadata": {},
   "outputs": [
    {
     "data": {
      "text/plain": [
       "8"
      ]
     },
     "execution_count": 3,
     "metadata": {},
     "output_type": "execute_result"
    }
   ],
   "source": [
    "5 + 3\n"
   ]
  },
  {
   "cell_type": "code",
   "execution_count": 4,
   "id": "4f2b6733-799e-4f89-9ea9-e4180d2da729",
   "metadata": {},
   "outputs": [
    {
     "data": {
      "text/plain": [
       "2.25"
      ]
     },
     "execution_count": 4,
     "metadata": {},
     "output_type": "execute_result"
    }
   ],
   "source": [
    "9 / 4"
   ]
  },
  {
   "cell_type": "code",
   "execution_count": 5,
   "id": "60839756-a68d-4ff2-8a74-b33c595309ce",
   "metadata": {},
   "outputs": [
    {
     "data": {
      "text/plain": [
       "32"
      ]
     },
     "execution_count": 5,
     "metadata": {},
     "output_type": "execute_result"
    }
   ],
   "source": [
    "4 * 8"
   ]
  },
  {
   "cell_type": "code",
   "execution_count": 6,
   "id": "5e4e6d8f-f492-4d50-94ec-72d619e9a9bf",
   "metadata": {},
   "outputs": [],
   "source": [
    "myAge = 60"
   ]
  },
  {
   "cell_type": "code",
   "execution_count": 7,
   "id": "c3ba5e0a-1306-452f-a29a-c5c02510cc7d",
   "metadata": {},
   "outputs": [
    {
     "data": {
      "text/plain": [
       "30.0"
      ]
     },
     "execution_count": 7,
     "metadata": {},
     "output_type": "execute_result"
    }
   ],
   "source": [
    "myAge / 2"
   ]
  },
  {
   "cell_type": "code",
   "execution_count": 9,
   "id": "63629e4c-3a7d-4b32-b980-99cf70b52c94",
   "metadata": {},
   "outputs": [
    {
     "data": {
      "text/plain": [
       "60"
      ]
     },
     "execution_count": 9,
     "metadata": {},
     "output_type": "execute_result"
    }
   ],
   "source": [
    "myAge"
   ]
  },
  {
   "cell_type": "code",
   "execution_count": null,
   "id": "45918fdb-6d2b-4840-aa7c-19f1f797525f",
   "metadata": {},
   "outputs": [],
   "source": []
  }
 ],
 "metadata": {
  "kernelspec": {
   "display_name": "Python 3 (ipykernel)",
   "language": "python",
   "name": "python3"
  },
  "language_info": {
   "codemirror_mode": {
    "name": "ipython",
    "version": 3
   },
   "file_extension": ".py",
   "mimetype": "text/x-python",
   "name": "python",
   "nbconvert_exporter": "python",
   "pygments_lexer": "ipython3",
   "version": "3.12.7"
  }
 },
 "nbformat": 4,
 "nbformat_minor": 5
}
