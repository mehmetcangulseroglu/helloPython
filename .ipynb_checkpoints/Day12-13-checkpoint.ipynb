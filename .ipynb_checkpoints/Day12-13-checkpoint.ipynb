{
 "cells": [
  {
   "cell_type": "markdown",
   "id": "ec241ff5-f522-47b3-beff-5254fb6b63df",
   "metadata": {},
   "source": [
    "## hataları ele almak - try - except"
   ]
  },
  {
   "cell_type": "code",
   "execution_count": 3,
   "id": "560f73c3-7e6c-4db3-9194-bdc9edd90687",
   "metadata": {},
   "outputs": [],
   "source": [
    "#handling errors"
   ]
  },
  {
   "cell_type": "code",
   "execution_count": 5,
   "id": "5ecbea1d-3589-41f4-89d1-504de91b9a40",
   "metadata": {},
   "outputs": [],
   "source": [
    "#kodumuzda hata çıkarabilecek durumlar varsa hata çıkarmadan hatayı ayıklamak ?"
   ]
  },
  {
   "cell_type": "code",
   "execution_count": 7,
   "id": "e9b0cc5c-40d5-4345-b6ab-8976e6a06a78",
   "metadata": {},
   "outputs": [],
   "source": [
    "#örneğin kullanıcı yaş bilgisi girerken 30 yerine otuz yazdı ?"
   ]
  },
  {
   "cell_type": "code",
   "execution_count": 9,
   "id": "989c9dd5-720f-4969-8f3f-aa1b8bf457d2",
   "metadata": {},
   "outputs": [],
   "source": [
    "#sadece uygulama bazlı düşünme internetten veya databaseden veri çekilir ama \n",
    "#ama o an gelmez sıkıntı olur çökmesi yerine kullanıcıya mesaj verilebilir "
   ]
  },
  {
   "cell_type": "code",
   "execution_count": 11,
   "id": "c59ffa38-65f7-4113-a082-31b27e660f2e",
   "metadata": {},
   "outputs": [],
   "source": [
    "# bu kapsamda try - except konularına bakalım"
   ]
  },
  {
   "cell_type": "code",
   "execution_count": 14,
   "id": "c2f95c69-469e-43c2-8147-dbc5a4f1da39",
   "metadata": {},
   "outputs": [],
   "source": [
    "# try bloğu içine hata alınabilecek kodu yazıyoruz\n",
    "# except içine de hata mesajını yazıyoruz olay bu "
   ]
  },
  {
   "cell_type": "code",
   "execution_count": 22,
   "id": "18f4d0dc-c124-43ce-9031-b021e279359b",
   "metadata": {},
   "outputs": [
    {
     "name": "stdin",
     "output_type": "stream",
     "text": [
      "yaş girin beş\n"
     ]
    },
    {
     "name": "stdout",
     "output_type": "stream",
     "text": [
      "enter your age -(int)\n"
     ]
    }
   ],
   "source": [
    "try:\n",
    "    myAge=int(input(\"yaş girin\"))\n",
    "    print(myAge*2)\n",
    "except:\n",
    "    print(\"enter your age -(int)\")\n",
    "\n",
    "#kullanıcı 10 yerine on girebilir ve onu int yapmaya çalışırken hata fırlatur"
   ]
  },
  {
   "cell_type": "code",
   "execution_count": 24,
   "id": "8b1e7b6b-78ef-44f6-b0b1-b2f6a459120b",
   "metadata": {},
   "outputs": [
    {
     "name": "stdin",
     "output_type": "stream",
     "text": [
      "yaş girin 12\n"
     ]
    },
    {
     "name": "stdout",
     "output_type": "stream",
     "text": [
      "24\n"
     ]
    }
   ],
   "source": [
    "#version 2 except yanına hata fonksiyonu da eklenebilir\n",
    "#hata mesajında çıkar o zaten \n",
    "try:\n",
    "    myAge=int(input(\"yaş girin\"))\n",
    "    print(myAge*2)\n",
    "except ValueError:\n",
    "    print(\"enter your age -(int)\")"
   ]
  },
  {
   "cell_type": "code",
   "execution_count": null,
   "id": "888cb587-ae1d-42be-ba22-d27dfdc25362",
   "metadata": {},
   "outputs": [],
   "source": [
    "#birden fazla except yazabilirsin her hataya göre \n",
    "#ama direkt except yazmak en kapsamlısı\n",
    "#except ValueError:\n",
    ".......\n",
    "\n",
    "#except ...Error:\n",
    "    ......\n",
    "#vs vs"
   ]
  },
  {
   "cell_type": "code",
   "execution_count": 28,
   "id": "b089eccf-4d99-4d34-a7ad-5e471e8c07f4",
   "metadata": {},
   "outputs": [
    {
     "name": "stdin",
     "output_type": "stream",
     "text": [
      "yaş girin mehmet\n"
     ]
    },
    {
     "name": "stdout",
     "output_type": "stream",
     "text": [
      "enter your age -(int)\n"
     ]
    },
    {
     "name": "stdin",
     "output_type": "stream",
     "text": [
      "yaş girin 12\n"
     ]
    },
    {
     "name": "stdout",
     "output_type": "stream",
     "text": [
      "24\n"
     ]
    }
   ],
   "source": [
    "while True:\n",
    "    try:\n",
    "        myAge=int(input(\"yaş girin\"))\n",
    "        print(myAge*2)\n",
    "        break\n",
    "    except ValueError:\n",
    "        print(\"enter your age -(int)\")"
   ]
  },
  {
   "cell_type": "code",
   "execution_count": null,
   "id": "62a5fb2c-5e02-4309-9ad9-73b8487ad118",
   "metadata": {},
   "outputs": [],
   "source": [
    "#bunun dışında en sona except sonlarına yazılan finally var\n",
    "#ne olursa olsun finally kısmı daima çalışır\n",
    "while True:\n",
    "    try:\n",
    "        myAge=int(input(\"yaş girin\"))\n",
    "        print(myAge*2)\n",
    "        break\n",
    "    except ValueError:\n",
    "        print(\"enter your age -(int)\")\n",
    "    else:\n",
    "        print(\"else çalıştı\")\n",
    "    finally:\n",
    "        print(\"finally çalıştı\")"
   ]
  },
  {
   "cell_type": "markdown",
   "id": "f1946dd7-fad9-42cb-8dbc-f0278b14707c",
   "metadata": {},
   "source": [
    "## dosyalarla çalışmak"
   ]
  },
  {
   "cell_type": "code",
   "execution_count": 43,
   "id": "37b6331c-a371-4e7f-874f-48a099808d3f",
   "metadata": {},
   "outputs": [
    {
     "data": {
      "text/plain": [
       "'\\n%%writefiles myfiles.txt\\ntest 1\\ntest 2\\ntest 3\\n'"
      ]
     },
     "execution_count": 43,
     "metadata": {},
     "output_type": "execute_result"
    }
   ],
   "source": [
    "#1\n",
    "\"\"\"\n",
    "%%writefiles myfiles.txt\n",
    "test 1\n",
    "test 2\n",
    "test 3\n",
    "\"\"\"\n",
    "#myfiles diye dosya oluşturur içine de test1 test2 test3 yazar Day12-13 ile aynı klasöre oluşturur dosyayı"
   ]
  },
  {
   "cell_type": "code",
   "execution_count": 45,
   "id": "09a9e214-6b4c-47f7-bbfe-5e1aa3ee44ce",
   "metadata": {},
   "outputs": [],
   "source": [
    "#dosyayı oluşturdum dosyayı nasıl açarım içini okurum veya içine yazarım ??\n",
    "#-zor yolu"
   ]
  },
  {
   "cell_type": "code",
   "execution_count": 41,
   "id": "ed2ea86f-5aae-487d-bf6c-3085c992d7e9",
   "metadata": {},
   "outputs": [],
   "source": [
    "#herhangi bir değişken adı yaz open kullan open içine dosya yolu\n",
    "#fakat bizim dosya bizimle aynı dizinde o yüzden direkt adını yazsak da olur\n",
    "\n",
    "#2# MyFile = open(\"myfiles.txt\")\n",
    "#3# MyFile.read() dosyayı okursun içini görürsün\n",
    "#tekrar MyFile.read() yaparsan yani tekrar okumak istersen dosya boş gözükür ama\n",
    "#çünkü karakter karakter okuma yapıyor harfleri sona yani boşa gelip duruyor\n",
    "#o yüzden #4# myFile.seek(0) ile dosyanın başına getirdik gibi düşün imleci"
   ]
  },
  {
   "cell_type": "code",
   "execution_count": 47,
   "id": "c4cc80a2-7ddf-45b8-a788-8feff1c8eff8",
   "metadata": {},
   "outputs": [],
   "source": [
    "#en son #5# myFile.close() demeyi unutma"
   ]
  },
  {
   "cell_type": "code",
   "execution_count": null,
   "id": "f3e6653c-cb47-4bd6-9201-f5a4cb9a7d54",
   "metadata": {},
   "outputs": [],
   "source": []
  },
  {
   "cell_type": "code",
   "execution_count": 51,
   "id": "c4ee681c-49bc-44e4-b498-367734c1bbd7",
   "metadata": {},
   "outputs": [],
   "source": [
    "#kolay yolu with anahtar kelimesi dosyalarda"
   ]
  },
  {
   "cell_type": "code",
   "execution_count": 53,
   "id": "ed7b9ab8-4a5a-4769-bb00-052ecc4039cd",
   "metadata": {},
   "outputs": [],
   "source": [
    "#with open(myfiles.txt) as myFile:    #bu en sondaki değişken ismi ne koyduysan artık\n",
    "    #artık buraya ister myFile.read() de ne dersen de with sayesinde otomatik olacak"
   ]
  },
  {
   "cell_type": "code",
   "execution_count": 55,
   "id": "28c6f9ec-8c98-4b0f-834b-9dd132ad58fb",
   "metadata": {},
   "outputs": [],
   "source": [
    "#with open(\"myfile.txt\",mode=w) as myNewFile:\n",
    "#    myNewFile.write(\"test4\")\n",
    "#w wrighttan gelir yazmak anlamına gelir 4 yazar dosyaya\n",
    "#fakat öncekiler silinir parametre w olunca\n",
    "\n",
    "#with open(\"myfile.txt\",mode=r) as myNewFile:\n",
    "#    myNewFile..read()\n",
    "# parametre r olurda read yani bak sadece okumak için açıyoruz diyor\n",
    "# w -r -a(append) ile açarsın dosyaları w ve r yi anlattık a ya bakalım\n",
    "\n",
    "#dikkat parametre a olunca içeriği silmeden ekler \n",
    "#with open(\"myfile.txt\",mode=a) as myNewFile:\n",
    "#    myNewFile.write(\"test4\")\n"
   ]
  },
  {
   "cell_type": "markdown",
   "id": "751a805e-421b-4008-aa8f-34affd7bb8cd",
   "metadata": {},
   "source": [
    "## type annotation"
   ]
  },
  {
   "cell_type": "code",
   "execution_count": 58,
   "id": "453cbef8-d082-4ac0-9bb8-eeb22745bb67",
   "metadata": {},
   "outputs": [
    {
     "data": {
      "text/plain": [
       "int"
      ]
     },
     "execution_count": 58,
     "metadata": {},
     "output_type": "execute_result"
    }
   ],
   "source": [
    "#normalde \n",
    "name = \"mehmet\"\n",
    "#fakat diyor ki böyle de yapabilirsin farkeden bişey yok\n",
    "name : str = \"mehmet\"\n",
    "#javada vs zorunlu mesela \n",
    "surname : str = 20 # dersen pythonda yine olur ama javada olmaz illa str der mesela\n",
    "type(surname)"
   ]
  },
  {
   "cell_type": "code",
   "execution_count": 62,
   "id": "57c0d17f-2849-4560-b020-17d52c618646",
   "metadata": {},
   "outputs": [],
   "source": [
    "#herhangi bir mantığı yok dediğim gibi amaç kod okumasını arttırmak\n",
    "#veya görürsen garipseme işte str diyip int vermiş hatalı deme"
   ]
  },
  {
   "cell_type": "code",
   "execution_count": 66,
   "id": "e46a66ed-6877-4299-b5d2-9f0c74b34526",
   "metadata": {},
   "outputs": [],
   "source": [
    "#örneğin bu normali\n",
    "def add_numbers(a,b):\n",
    "    return a+b\n",
    "#fakat böyle de görebilirsin bunlar int ve okla da int döneceğini belirtmiş\n",
    "def add_numbers(a:int,b:int)->int:\n",
    "    return (a+b)"
   ]
  },
  {
   "cell_type": "code",
   "execution_count": null,
   "id": "068f4407-8bc0-4b3e-a531-dfddd75bbfe1",
   "metadata": {},
   "outputs": [],
   "source": [
    "#örnek\n",
    "def process_values(value: int | str)->str\n",
    "    ......\n",
    "#gibi de  görebilirsin "
   ]
  },
  {
   "cell_type": "code",
   "execution_count": 70,
   "id": "4aeb603d-8f8f-4a85-8191-ac1f5668887b",
   "metadata": {},
   "outputs": [],
   "source": [
    "#pycharm ide yüklemeye başlayabiliriz artık\n",
    "#pycharm ?\n",
    "#pip kullanımı ile kütüphane yüklemek ? \n",
    "#pip install ....."
   ]
  },
  {
   "cell_type": "code",
   "execution_count": 72,
   "id": "fb43206f-8bd5-4ae6-a3e3-dbbe4362891c",
   "metadata": {},
   "outputs": [],
   "source": [
    "#py uzantılı dosyamızı sadece run tuşuna basıp mı çalıştırabiliriz ???"
   ]
  },
  {
   "cell_type": "code",
   "execution_count": null,
   "id": "e57996ca-9e60-4821-b44c-0234bbdc03e2",
   "metadata": {},
   "outputs": [],
   "source": []
  }
 ],
 "metadata": {
  "kernelspec": {
   "display_name": "Python [conda env:base] *",
   "language": "python",
   "name": "conda-base-py"
  },
  "language_info": {
   "codemirror_mode": {
    "name": "ipython",
    "version": 3
   },
   "file_extension": ".py",
   "mimetype": "text/x-python",
   "name": "python",
   "nbconvert_exporter": "python",
   "pygments_lexer": "ipython3",
   "version": "3.12.7"
  }
 },
 "nbformat": 4,
 "nbformat_minor": 5
}
