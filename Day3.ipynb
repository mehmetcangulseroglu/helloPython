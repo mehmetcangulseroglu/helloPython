{
 "cells": [
  {
   "cell_type": "markdown",
   "id": "7eeb123d-4c7b-43dd-87b9-fb1d7d7dcbe4",
   "metadata": {},
   "source": [
    "## index mantığı ve koleksiyonlar"
   ]
  },
  {
   "cell_type": "code",
   "execution_count": 5,
   "id": "de41a858-ac92-4380-9797-c53ab7f51cbf",
   "metadata": {},
   "outputs": [],
   "source": [
    "#index mantığı"
   ]
  },
  {
   "cell_type": "code",
   "execution_count": 7,
   "id": "62907359-78fb-4bd8-ae09-94ed45b1bdb4",
   "metadata": {},
   "outputs": [],
   "source": [
    "myString = \"hello python\""
   ]
  },
  {
   "cell_type": "code",
   "execution_count": 9,
   "id": "9a0d511f-7a03-4df9-bce9-111f7c70bbb6",
   "metadata": {},
   "outputs": [
    {
     "data": {
      "text/plain": [
       "'l'"
      ]
     },
     "execution_count": 9,
     "metadata": {},
     "output_type": "execute_result"
    }
   ],
   "source": [
    "myString[2]"
   ]
  },
  {
   "cell_type": "code",
   "execution_count": 11,
   "id": "30c61e88-6f18-4b73-b190-581c448b8586",
   "metadata": {},
   "outputs": [
    {
     "data": {
      "text/plain": [
       "'o'"
      ]
     },
     "execution_count": 11,
     "metadata": {},
     "output_type": "execute_result"
    }
   ],
   "source": [
    "myString[4]"
   ]
  },
  {
   "cell_type": "code",
   "execution_count": 13,
   "id": "5c190372-b5a1-422e-85cd-f7cfebe75871",
   "metadata": {},
   "outputs": [
    {
     "data": {
      "text/plain": [
       "12"
      ]
     },
     "execution_count": 13,
     "metadata": {},
     "output_type": "execute_result"
    }
   ],
   "source": [
    "len(myString)"
   ]
  },
  {
   "cell_type": "code",
   "execution_count": 15,
   "id": "6cfef69b-761a-4550-b529-3b01f06b6247",
   "metadata": {},
   "outputs": [],
   "source": [
    "#string kaç harfli olursa olsun uzunluğu -1 bize son indeksi verir\n",
    "#ilk index her zaman sıfırdır zaten"
   ]
  },
  {
   "cell_type": "code",
   "execution_count": 17,
   "id": "4951be7c-b69f-4eb4-85a8-c2543c61e064",
   "metadata": {},
   "outputs": [
    {
     "data": {
      "text/plain": [
       "11"
      ]
     },
     "execution_count": 17,
     "metadata": {},
     "output_type": "execute_result"
    }
   ],
   "source": [
    "len(myString)-1"
   ]
  },
  {
   "cell_type": "code",
   "execution_count": 19,
   "id": "41b59fa3-5012-4a53-a65c-1f78bfcb4eee",
   "metadata": {},
   "outputs": [],
   "source": [
    "myName=\"james hetfield\""
   ]
  },
  {
   "cell_type": "code",
   "execution_count": 23,
   "id": "a0d06fbf-0105-4ad8-b455-54a7e2937684",
   "metadata": {},
   "outputs": [
    {
     "data": {
      "text/plain": [
       "13"
      ]
     },
     "execution_count": 23,
     "metadata": {},
     "output_type": "execute_result"
    }
   ],
   "source": [
    "len(myName)-1"
   ]
  },
  {
   "cell_type": "code",
   "execution_count": 33,
   "id": "c7e77e97-1645-49b6-8e83-3c53dc05faf3",
   "metadata": {},
   "outputs": [
    {
     "data": {
      "text/plain": [
       "'d'"
      ]
     },
     "execution_count": 33,
     "metadata": {},
     "output_type": "execute_result"
    }
   ],
   "source": [
    "myName[len(myName)-1]#index vermeden son harfi almaya çalıştık sonuçta hep değişkeni görmeyeceğiz"
   ]
  },
  {
   "cell_type": "code",
   "execution_count": 38,
   "id": "7e24e239-fc44-4285-95c9-ac1da50ee792",
   "metadata": {},
   "outputs": [],
   "source": [
    "#pythonda -1 sayısı da son karakteri ifade eder\n",
    "#yani myName=[len(myName)-1] ile myName[-1] aynıdır\n",
    "#myName[-1] -1 daima son indexi ver demektir.\n",
    "#myName[-2] mesela sondan 2. harfi getirir bu mantık böyle devam ediyor."
   ]
  },
  {
   "cell_type": "markdown",
   "id": "92493833-2789-475a-a92d-59d6f1643beb",
   "metadata": {},
   "source": [
    "## slicing nedir ?"
   ]
  },
  {
   "cell_type": "code",
   "execution_count": 41,
   "id": "29f7a7b6-4db9-4e68-b9d9-fee720e3321e",
   "metadata": {},
   "outputs": [],
   "source": [
    "#dilimleme bölme anlamına gelir ifade olarak"
   ]
  },
  {
   "cell_type": "code",
   "execution_count": 43,
   "id": "aa0d80d6-5d31-460e-b95a-8233572dd5d4",
   "metadata": {},
   "outputs": [],
   "source": [
    "barcode = \"abc41478\""
   ]
  },
  {
   "cell_type": "code",
   "execution_count": 45,
   "id": "4ceb359b-4f9a-4bfb-a025-2b9921e4243e",
   "metadata": {},
   "outputs": [
    {
     "data": {
      "text/plain": [
       "'ab'"
      ]
     },
     "execution_count": 45,
     "metadata": {},
     "output_type": "execute_result"
    }
   ],
   "source": [
    "\"a\"+\"b\""
   ]
  },
  {
   "cell_type": "code",
   "execution_count": 47,
   "id": "5f333151-804b-4d60-8016-b4f1b5c48fbc",
   "metadata": {},
   "outputs": [
    {
     "data": {
      "text/plain": [
       "'aaaaaaaaaaaaaaaaaaaaaaaaaaaaaaaaaaaaaaaaaaaaaaaaaaaaaaaaaaaaaaaaaaaaaaaaaaaaaaaaaaaaaaaaaaaaaaaaaaaa'"
      ]
     },
     "execution_count": 47,
     "metadata": {},
     "output_type": "execute_result"
    }
   ],
   "source": [
    "100*\"a\""
   ]
  },
  {
   "cell_type": "code",
   "execution_count": 51,
   "id": "6e637da4-9a10-4127-94f1-c5cb38fe47b4",
   "metadata": {},
   "outputs": [
    {
     "data": {
      "text/plain": [
       "'abc'"
      ]
     },
     "execution_count": 51,
     "metadata": {},
     "output_type": "execute_result"
    }
   ],
   "source": [
    "barcode[0]+barcode[1]+barcode[2]#barcode değişkeninin ilk 3 harfini almak istedik diyelim\n",
    "#ama bu yol çok mantıksız ve uzun"
   ]
  },
  {
   "cell_type": "code",
   "execution_count": 59,
   "id": "579af3f3-c7e9-4f11-bbe9-f166c57d3ac5",
   "metadata": {},
   "outputs": [
    {
     "data": {
      "text/plain": [
       "'c4'"
      ]
     },
     "execution_count": 59,
     "metadata": {},
     "output_type": "execute_result"
    }
   ],
   "source": [
    "#kolay yolu var bunun ve buna slicing denir\n",
    "#starting index\n",
    "#stopping index\n",
    "#stepping size\n",
    "#bu 3 terim slicing kavramlarıdır \n",
    "#barcode[#starting index:stopping index:stepping size]=hangi indexten başlayım : hangi indexte durayım : kaçar kaçar gideyim\n",
    "\n",
    "barcode[::]#tamamını getirir stringin\n",
    "\n",
    "barcode[2:4:1]#2.indexten başla:4. indexte dur:1 er git dedik"
   ]
  },
  {
   "cell_type": "markdown",
   "id": "b8963586-6780-41c6-a710-be1e9e676f1e",
   "metadata": {},
   "source": [
    "## slicing örnekleri"
   ]
  },
  {
   "cell_type": "code",
   "execution_count": 62,
   "id": "93d9e3c5-f16e-45c8-ac63-4a845a4c71a0",
   "metadata": {},
   "outputs": [
    {
     "data": {
      "text/plain": [
       "'41478'"
      ]
     },
     "execution_count": 62,
     "metadata": {},
     "output_type": "execute_result"
    }
   ],
   "source": [
    "barcode[3::]#3.den başla diyor"
   ]
  },
  {
   "cell_type": "code",
   "execution_count": 64,
   "id": "74de10eb-df7a-44f3-a023-da51a78e64d1",
   "metadata": {},
   "outputs": [
    {
     "data": {
      "text/plain": [
       "'abc'"
      ]
     },
     "execution_count": 64,
     "metadata": {},
     "output_type": "execute_result"
    }
   ],
   "source": [
    "barcode[:3:]#3 de dur diyor ama üçü almıyor orda duruyor"
   ]
  },
  {
   "cell_type": "code",
   "execution_count": 66,
   "id": "a65b91d6-6564-4f06-b404-d2986bdae690",
   "metadata": {},
   "outputs": [
    {
     "data": {
      "text/plain": [
       "'a47'"
      ]
     },
     "execution_count": 66,
     "metadata": {},
     "output_type": "execute_result"
    }
   ],
   "source": [
    "barcode[::3]"
   ]
  },
  {
   "cell_type": "code",
   "execution_count": 68,
   "id": "13d16735-84d5-4130-afce-de43b7d07928",
   "metadata": {},
   "outputs": [],
   "source": [
    "name = \"mehmet can gülseroğlu\""
   ]
  },
  {
   "cell_type": "code",
   "execution_count": 70,
   "id": "2e34bea6-699d-4217-9763-af1ca49d3c0a",
   "metadata": {},
   "outputs": [
    {
     "data": {
      "text/plain": [
       "14"
      ]
     },
     "execution_count": 70,
     "metadata": {},
     "output_type": "execute_result"
    }
   ],
   "source": [
    "name.index(\"s\")"
   ]
  },
  {
   "cell_type": "code",
   "execution_count": 74,
   "id": "8b2d0f52-eedf-412f-bb86-adbc47c74608",
   "metadata": {},
   "outputs": [
    {
     "data": {
      "text/plain": [
       "['mehmet', 'can', 'gülseroğlu']"
      ]
     },
     "execution_count": 74,
     "metadata": {},
     "output_type": "execute_result"
    }
   ],
   "source": [
    "name.split()"
   ]
  },
  {
   "cell_type": "code",
   "execution_count": 76,
   "id": "4892b824-a032-4adc-9030-2e09509cb803",
   "metadata": {},
   "outputs": [
    {
     "data": {
      "text/plain": [
       "list"
      ]
     },
     "execution_count": 76,
     "metadata": {},
     "output_type": "execute_result"
    }
   ],
   "source": [
    "type(name.split())"
   ]
  },
  {
   "cell_type": "markdown",
   "id": "328bf517-83ae-4288-914b-a72e82835d7a",
   "metadata": {},
   "source": [
    "## listeler"
   ]
  },
  {
   "cell_type": "code",
   "execution_count": 93,
   "id": "c83aff52-c79b-4cb1-9146-f5f41b293eab",
   "metadata": {},
   "outputs": [],
   "source": [
    "#listeler aslında bir veri yapısıdır \n",
    "#içinde birden fazla veri tutar aynı tipte ASLINDA DİZİLERE BENZİYOR \n",
    "#list yapısı köşeli parantezlerle oluşturulur"
   ]
  },
  {
   "cell_type": "code",
   "execution_count": 81,
   "id": "77f7b5b7-cfb9-49bd-8d77-cefdee7d32b9",
   "metadata": {},
   "outputs": [],
   "source": [
    "myList = [10,20,30]\n",
    "#normal stringlerde örneğin bir harf değiştirilmezdi myString=\"mehmet\"ise\n",
    "#myString[2]=\"b\" diyemezsin ama listeler buna müsaade ediyor"
   ]
  },
  {
   "cell_type": "code",
   "execution_count": 83,
   "id": "c20cd7ee-986f-447c-947d-ad158b7f4dd8",
   "metadata": {},
   "outputs": [],
   "source": [
    "myList[1]=11"
   ]
  },
  {
   "cell_type": "code",
   "execution_count": 85,
   "id": "bbf6af31-0b89-4f3c-8c3d-e8c241c2f40c",
   "metadata": {},
   "outputs": [
    {
     "name": "stdout",
     "output_type": "stream",
     "text": [
      "11\n"
     ]
    }
   ],
   "source": [
    "print(myList[1])"
   ]
  },
  {
   "cell_type": "code",
   "execution_count": 89,
   "id": "af68f9ef-2aaa-4a54-bd21-79ced0fca9c6",
   "metadata": {},
   "outputs": [
    {
     "name": "stdout",
     "output_type": "stream",
     "text": [
      "[10, 11, 30]\n"
     ]
    }
   ],
   "source": [
    "print(myList)"
   ]
  },
  {
   "cell_type": "code",
   "execution_count": 97,
   "id": "3f41a993-6491-4f01-9f36-643b825b4f5f",
   "metadata": {},
   "outputs": [],
   "source": [
    "#list özellikleri\n",
    "#ilgili değişkeni al noktaya bas çıkar list özellikleri"
   ]
  },
  {
   "cell_type": "code",
   "execution_count": 99,
   "id": "4766ebe1-c01c-4d08-910f-aa00b7945c9f",
   "metadata": {},
   "outputs": [],
   "source": [
    "myList.append(80)#ekleme metodudur"
   ]
  },
  {
   "cell_type": "code",
   "execution_count": 101,
   "id": "2b3bbe92-00da-47fc-a081-798fbe727fbf",
   "metadata": {},
   "outputs": [
    {
     "data": {
      "text/plain": [
       "[10, 11, 30, 80]"
      ]
     },
     "execution_count": 101,
     "metadata": {},
     "output_type": "execute_result"
    }
   ],
   "source": [
    "myList"
   ]
  },
  {
   "cell_type": "code",
   "execution_count": 103,
   "id": "e69e5eab-a5ba-43bd-b084-0afea1b70eeb",
   "metadata": {},
   "outputs": [
    {
     "data": {
      "text/plain": [
       "[10, 11, 30, 80]"
      ]
     },
     "execution_count": 103,
     "metadata": {},
     "output_type": "execute_result"
    }
   ],
   "source": [
    "myList.copy()#listeyi kopyalar"
   ]
  },
  {
   "cell_type": "code",
   "execution_count": 105,
   "id": "9b7a8388-b8d1-44ed-8ec5-749a022eeeea",
   "metadata": {},
   "outputs": [
    {
     "data": {
      "text/plain": [
       "[10, 11, 30, 80]"
      ]
     },
     "execution_count": 105,
     "metadata": {},
     "output_type": "execute_result"
    }
   ],
   "source": [
    "myList"
   ]
  },
  {
   "cell_type": "code",
   "execution_count": 107,
   "id": "6941c31f-2239-4347-8b8a-88eede36ed19",
   "metadata": {},
   "outputs": [
    {
     "data": {
      "text/plain": [
       "0"
      ]
     },
     "execution_count": 107,
     "metadata": {},
     "output_type": "execute_result"
    }
   ],
   "source": [
    "myList.count(20)#içinde kaç tane 20 var listenin onu verir"
   ]
  },
  {
   "cell_type": "code",
   "execution_count": 113,
   "id": "284d04ae-0f9d-447c-89bb-5bb801d0911b",
   "metadata": {},
   "outputs": [
    {
     "data": {
      "text/plain": [
       "0"
      ]
     },
     "execution_count": 113,
     "metadata": {},
     "output_type": "execute_result"
    }
   ],
   "source": [
    "myList.index(10)#10 kaçıncı indexte onu verir"
   ]
  },
  {
   "cell_type": "code",
   "execution_count": 115,
   "id": "da267000-8ff0-4ae0-a474-120703237c04",
   "metadata": {},
   "outputs": [],
   "source": [
    "myList.insert(2,35)#append gibi bu da ekler ama insert 2 parametrelidir örneğin burda diyor ki 2.indexe 35 i ekle"
   ]
  },
  {
   "cell_type": "code",
   "execution_count": 117,
   "id": "61443378-9136-46e6-ac7e-b271ce5d8f42",
   "metadata": {},
   "outputs": [
    {
     "name": "stdout",
     "output_type": "stream",
     "text": [
      "[10, 11, 35, 30, 80]\n"
     ]
    }
   ],
   "source": [
    "print(myList)"
   ]
  },
  {
   "cell_type": "code",
   "execution_count": 119,
   "id": "5f707f11-ee85-423c-a865-a6a78ffdd09f",
   "metadata": {},
   "outputs": [
    {
     "data": {
      "text/plain": [
       "80"
      ]
     },
     "execution_count": 119,
     "metadata": {},
     "output_type": "execute_result"
    }
   ],
   "source": [
    "myList.pop()#son elemanı kaldırır"
   ]
  },
  {
   "cell_type": "code",
   "execution_count": 121,
   "id": "08304349-bb0d-4ce8-89cf-89279bee5ee0",
   "metadata": {},
   "outputs": [
    {
     "name": "stdout",
     "output_type": "stream",
     "text": [
      "[10, 11, 35, 30]\n"
     ]
    }
   ],
   "source": [
    "print(myList)"
   ]
  },
  {
   "cell_type": "code",
   "execution_count": 123,
   "id": "deb136f2-eeda-4a75-9767-43007b5f5056",
   "metadata": {},
   "outputs": [],
   "source": [
    "myList.remove(11)#son elemanı vs değil hangi elemanı çıkartmak istiyorsan onu çıkartır"
   ]
  },
  {
   "cell_type": "code",
   "execution_count": 125,
   "id": "7d5e5449-bb5f-4454-8cf4-657e2d0efbd5",
   "metadata": {},
   "outputs": [
    {
     "name": "stdout",
     "output_type": "stream",
     "text": [
      "[10, 35, 30]\n"
     ]
    }
   ],
   "source": [
    "print(myList)"
   ]
  },
  {
   "cell_type": "markdown",
   "id": "4db16ee9-4502-4dca-b0ca-888a8ae3d16e",
   "metadata": {},
   "source": [
    "## kullanıcıdan değer alma"
   ]
  },
  {
   "cell_type": "code",
   "execution_count": 134,
   "id": "1e01b8c6-cc25-44ea-97df-4e943815a8c4",
   "metadata": {},
   "outputs": [
    {
     "name": "stdin",
     "output_type": "stream",
     "text": [
      "x değeri girin 10\n"
     ]
    }
   ],
   "source": [
    "#input fonksiyonu ile olur\n",
    "x = input(\"x değeri girin\")"
   ]
  },
  {
   "cell_type": "code",
   "execution_count": 136,
   "id": "24c0a2e3-4f18-4eea-8b50-e433a7604e5e",
   "metadata": {},
   "outputs": [
    {
     "data": {
      "text/plain": [
       "'10'"
      ]
     },
     "execution_count": 136,
     "metadata": {},
     "output_type": "execute_result"
    }
   ],
   "source": [
    "x"
   ]
  },
  {
   "cell_type": "code",
   "execution_count": 138,
   "id": "06a5bc2e-be07-49a6-8ca5-c489a6551c9d",
   "metadata": {},
   "outputs": [],
   "source": [
    "# not = python inputtan gelen her şeyi str olarak algılar bu 10 da strdir mesela o yüzden yeri geldiğinde tip dönüşümü yaparız"
   ]
  },
  {
   "cell_type": "code",
   "execution_count": 140,
   "id": "f278fce1-41aa-4e8b-8b44-8034c1f0571b",
   "metadata": {},
   "outputs": [
    {
     "name": "stdin",
     "output_type": "stream",
     "text": [
      "y girin 20\n"
     ]
    }
   ],
   "source": [
    "y = input(\"y girin\")"
   ]
  },
  {
   "cell_type": "code",
   "execution_count": 142,
   "id": "a0e56878-af00-4b39-a1d6-4467a7d0620b",
   "metadata": {},
   "outputs": [
    {
     "data": {
      "text/plain": [
       "'20'"
      ]
     },
     "execution_count": 142,
     "metadata": {},
     "output_type": "execute_result"
    }
   ],
   "source": [
    "y"
   ]
  },
  {
   "cell_type": "code",
   "execution_count": 146,
   "id": "886b24a3-8ff6-49dc-8727-c1f3c85c98a6",
   "metadata": {},
   "outputs": [
    {
     "name": "stdin",
     "output_type": "stream",
     "text": [
      "z girin 30\n"
     ]
    }
   ],
   "source": [
    "z = input(\"z girin\")"
   ]
  },
  {
   "cell_type": "code",
   "execution_count": 148,
   "id": "0a8f7465-f82f-4014-a15d-2d42871aa4b8",
   "metadata": {},
   "outputs": [
    {
     "data": {
      "text/plain": [
       "'30'"
      ]
     },
     "execution_count": 148,
     "metadata": {},
     "output_type": "execute_result"
    }
   ],
   "source": [
    "z"
   ]
  },
  {
   "cell_type": "code",
   "execution_count": 152,
   "id": "7ad8018a-d7e2-4743-aa23-208e4a66fedd",
   "metadata": {},
   "outputs": [],
   "source": [
    "inputList=[]#boş bir liste oluşturduk"
   ]
  },
  {
   "cell_type": "code",
   "execution_count": 154,
   "id": "e7baec25-35fa-4c45-8f44-76d2f45bb6fc",
   "metadata": {},
   "outputs": [],
   "source": [
    "#bu liste içine x y z yi atalım\n",
    "inputList.append(x)\n",
    "inputList.append(y)\n",
    "inputList.append(z)"
   ]
  },
  {
   "cell_type": "code",
   "execution_count": 156,
   "id": "df1ed40d-9f64-4a03-9446-0bb471716f7c",
   "metadata": {},
   "outputs": [
    {
     "name": "stdout",
     "output_type": "stream",
     "text": [
      "['10', '20', '30']\n"
     ]
    }
   ],
   "source": [
    "print(inputList)"
   ]
  },
  {
   "cell_type": "code",
   "execution_count": 158,
   "id": "5248cd3b-e579-4591-84f7-ee7eca9fdbeb",
   "metadata": {},
   "outputs": [],
   "source": [
    "#ama atıyorum biz bu listedeki 2. elemanı alıp 2 ile çarparsak 2020 verir str olarak algıladığı için \n",
    "#bu yüzden tip dönüşümü gerekli biz ne dedik inputtan gelen her şey str algılanır pythonda"
   ]
  },
  {
   "cell_type": "markdown",
   "id": "f96011a7-5031-4750-8fdb-71c712588696",
   "metadata": {},
   "source": [
    "## tip dönüştürme"
   ]
  },
  {
   "cell_type": "code",
   "execution_count": 163,
   "id": "89e6a518-0078-4fb2-afc4-d4e68d3b8c63",
   "metadata": {},
   "outputs": [],
   "source": [
    "myInteger=50"
   ]
  },
  {
   "cell_type": "code",
   "execution_count": 167,
   "id": "02818dae-f7f3-4e88-be6f-c324b5fe6767",
   "metadata": {},
   "outputs": [
    {
     "data": {
      "text/plain": [
       "'50'"
      ]
     },
     "execution_count": 167,
     "metadata": {},
     "output_type": "execute_result"
    }
   ],
   "source": [
    "str(myInteger)#integer olan değişkeni str ye çevirdik"
   ]
  },
  {
   "cell_type": "code",
   "execution_count": 169,
   "id": "e8638f54-c5ab-4523-a0a0-c1b112a803b3",
   "metadata": {},
   "outputs": [],
   "source": [
    "myString=\"40\""
   ]
  },
  {
   "cell_type": "code",
   "execution_count": 171,
   "id": "6aedc67b-d7cc-40d9-a4a7-9db138cf2115",
   "metadata": {},
   "outputs": [
    {
     "data": {
      "text/plain": [
       "40"
      ]
     },
     "execution_count": 171,
     "metadata": {},
     "output_type": "execute_result"
    }
   ],
   "source": [
    "int(myString)"
   ]
  },
  {
   "cell_type": "code",
   "execution_count": 175,
   "id": "13c449f0-507f-4eda-ab45-a3539f015404",
   "metadata": {},
   "outputs": [],
   "source": [
    "myStr=\"python\"#bunu çeviremeyiz ama yapsakda yazıyı nasıl sayıya çevirsin olmaz"
   ]
  },
  {
   "cell_type": "code",
   "execution_count": 177,
   "id": "ccee76c6-1dfc-416c-a6f8-ac088c4edb8a",
   "metadata": {},
   "outputs": [],
   "source": [
    "#yukarda inputList örneğinde 2.indexi mesela 2 ile çarpamadık inputlar str algılanır dedik şimdi tipini değiştirip yapalım"
   ]
  },
  {
   "cell_type": "code",
   "execution_count": 179,
   "id": "789da962-d74d-4ff9-ac57-f41f29546d6b",
   "metadata": {},
   "outputs": [
    {
     "data": {
      "text/plain": [
       "40"
      ]
     },
     "execution_count": 179,
     "metadata": {},
     "output_type": "execute_result"
    }
   ],
   "source": [
    "int(inputList[1])*2"
   ]
  },
  {
   "cell_type": "code",
   "execution_count": 181,
   "id": "b0d02d9b-f754-48fa-9d04-a85dac778409",
   "metadata": {},
   "outputs": [
    {
     "name": "stdout",
     "output_type": "stream",
     "text": [
      "['10', '20', '30']\n"
     ]
    }
   ],
   "source": [
    "print(inputList)"
   ]
  },
  {
   "cell_type": "markdown",
   "id": "f8b67981-8279-44e6-aa70-3a740d85b5de",
   "metadata": {},
   "source": [
    "## ileri seviye listeler"
   ]
  },
  {
   "cell_type": "code",
   "execution_count": 184,
   "id": "9f63b80e-d598-4b85-a73d-cf9be3a094ad",
   "metadata": {},
   "outputs": [],
   "source": [
    "nameList=[\"mehmet\",\"can\",\"a\",\"b\"]"
   ]
  },
  {
   "cell_type": "code",
   "execution_count": 186,
   "id": "9fa8a671-fa3a-429c-b90b-53c3baa48ebf",
   "metadata": {},
   "outputs": [],
   "source": [
    "#liste içindeki yapılar aynı türden olmak zorunda değil..."
   ]
  },
  {
   "cell_type": "code",
   "execution_count": 188,
   "id": "a9ac16f3-ee05-4b0f-8b76-d0a18034ab67",
   "metadata": {},
   "outputs": [],
   "source": [
    "mixedList=[\"mehmet\",100,5.4,\"can\"]"
   ]
  },
  {
   "cell_type": "code",
   "execution_count": 190,
   "id": "8f2eb695-cb58-44e0-a7e9-20f80e7119c8",
   "metadata": {},
   "outputs": [],
   "source": [
    "list1=[10,20,30]\n",
    "list2=[40,50,60]"
   ]
  },
  {
   "cell_type": "code",
   "execution_count": 194,
   "id": "ecd6a44f-317b-438d-8ae5-905c983d0470",
   "metadata": {},
   "outputs": [
    {
     "data": {
      "text/plain": [
       "[10, 20, 30, 40, 50, 60]"
      ]
     },
     "execution_count": 194,
     "metadata": {},
     "output_type": "execute_result"
    }
   ],
   "source": [
    "list1 + list2#yan yana tek listede yazar"
   ]
  },
  {
   "cell_type": "code",
   "execution_count": 196,
   "id": "9bb890a3-2597-4d34-a606-e0b44dcb5656",
   "metadata": {},
   "outputs": [
    {
     "data": {
      "text/plain": [
       "[10, 20, 30, 10, 20, 30]"
      ]
     },
     "execution_count": 196,
     "metadata": {},
     "output_type": "execute_result"
    }
   ],
   "source": [
    "list1*2#düşme çarpım yapmaz 2 defa elemanları yazar"
   ]
  },
  {
   "cell_type": "code",
   "execution_count": 200,
   "id": "6264f135-1dd2-4465-8cc6-22592abf96c3",
   "metadata": {},
   "outputs": [],
   "source": [
    "#nestedList yani iç içe geçmiş listelere bakalım"
   ]
  },
  {
   "cell_type": "code",
   "execution_count": 202,
   "id": "65b44a5c-7b42-481c-aaea-446a28aa3027",
   "metadata": {},
   "outputs": [],
   "source": [
    "myNestedList=[10,20,\"mehmet\",[1,2,3]]"
   ]
  },
  {
   "cell_type": "code",
   "execution_count": 204,
   "id": "285521a0-3125-4848-9235-2e6d912979ae",
   "metadata": {},
   "outputs": [
    {
     "data": {
      "text/plain": [
       "4"
      ]
     },
     "execution_count": 204,
     "metadata": {},
     "output_type": "execute_result"
    }
   ],
   "source": [
    "len(myNestedList)"
   ]
  },
  {
   "cell_type": "code",
   "execution_count": 208,
   "id": "f139ec45-3213-4f14-8aae-76f868ca0b9e",
   "metadata": {},
   "outputs": [
    {
     "data": {
      "text/plain": [
       "2"
      ]
     },
     "execution_count": 208,
     "metadata": {},
     "output_type": "execute_result"
    }
   ],
   "source": [
    "myNestedList[3][1]#bu şekil erişiriz nested listlere çift boyutlu dizi mantığı"
   ]
  },
  {
   "cell_type": "code",
   "execution_count": 210,
   "id": "c0d3f37c-1831-4bcd-b53b-e57b6cf3cf17",
   "metadata": {},
   "outputs": [],
   "source": [
    "#daha önce stringlerde öğrendğimiz slicing işlemleri aynı şekilde listler için geçerli"
   ]
  },
  {
   "cell_type": "code",
   "execution_count": 212,
   "id": "6d8b248c-0173-4b5f-8283-f5b05be02c74",
   "metadata": {},
   "outputs": [],
   "source": [
    "firstList=[10,20,30,40]"
   ]
  },
  {
   "cell_type": "code",
   "execution_count": 214,
   "id": "f32fe101-0d9e-4b90-a95d-3d87d1b43a13",
   "metadata": {},
   "outputs": [
    {
     "data": {
      "text/plain": [
       "[20, 30]"
      ]
     },
     "execution_count": 214,
     "metadata": {},
     "output_type": "execute_result"
    }
   ],
   "source": [
    "firstList[1:3:1]"
   ]
  },
  {
   "cell_type": "code",
   "execution_count": null,
   "id": "2f22d521-f70e-4e1c-8e02-7904aa5f5410",
   "metadata": {},
   "outputs": [],
   "source": []
  }
 ],
 "metadata": {
  "kernelspec": {
   "display_name": "Python [conda env:base] *",
   "language": "python",
   "name": "conda-base-py"
  },
  "language_info": {
   "codemirror_mode": {
    "name": "ipython",
    "version": 3
   },
   "file_extension": ".py",
   "mimetype": "text/x-python",
   "name": "python",
   "nbconvert_exporter": "python",
   "pygments_lexer": "ipython3",
   "version": "3.12.7"
  }
 },
 "nbformat": 4,
 "nbformat_minor": 5
}
