{
 "cells": [
  {
   "cell_type": "markdown",
   "id": "1354f6b8-ea5f-425e-8e56-dc22e06b8642",
   "metadata": {},
   "source": [
    "## DAY 2 --- Data Types"
   ]
  },
  {
   "cell_type": "code",
   "execution_count": 2,
   "id": "38eb0fdc-67a5-4198-803f-e6900ba04489",
   "metadata": {},
   "outputs": [],
   "source": [
    "# yorum satırı oluşturmaya yarar"
   ]
  },
  {
   "cell_type": "code",
   "execution_count": 3,
   "id": "ee9f0338-3e05-4ba2-a8cb-a395886eb68f",
   "metadata": {},
   "outputs": [
    {
     "data": {
      "text/plain": [
       "int"
      ]
     },
     "execution_count": 3,
     "metadata": {},
     "output_type": "execute_result"
    }
   ],
   "source": [
    "type(10) #içine yazılan şeyin tipini döndürür"
   ]
  },
  {
   "cell_type": "code",
   "execution_count": 4,
   "id": "1ab48a71-0512-4b68-b8c9-eac42783178d",
   "metadata": {},
   "outputs": [
    {
     "data": {
      "text/plain": [
       "int"
      ]
     },
     "execution_count": 4,
     "metadata": {},
     "output_type": "execute_result"
    }
   ],
   "source": [
    "type(10 * 3)"
   ]
  },
  {
   "cell_type": "code",
   "execution_count": 5,
   "id": "ddd89822-d9e6-434a-a8e5-ad89d9993c0d",
   "metadata": {},
   "outputs": [
    {
     "data": {
      "text/plain": [
       "int"
      ]
     },
     "execution_count": 5,
     "metadata": {},
     "output_type": "execute_result"
    }
   ],
   "source": [
    "type(-1000)"
   ]
  },
  {
   "cell_type": "code",
   "execution_count": 6,
   "id": "1f505a79-9d42-4d05-bbc1-59c1b5519897",
   "metadata": {},
   "outputs": [
    {
     "data": {
      "text/plain": [
       "float"
      ]
     },
     "execution_count": 6,
     "metadata": {},
     "output_type": "execute_result"
    }
   ],
   "source": [
    "type(25.7)"
   ]
  },
  {
   "cell_type": "code",
   "execution_count": 7,
   "id": "142fcbbd-855f-4c1d-811e-fbb79d375465",
   "metadata": {},
   "outputs": [
    {
     "data": {
      "text/plain": [
       "str"
      ]
     },
     "execution_count": 7,
     "metadata": {},
     "output_type": "execute_result"
    }
   ],
   "source": [
    "type(\"mehmet\")"
   ]
  },
  {
   "cell_type": "code",
   "execution_count": 8,
   "id": "766b9de7-07f2-4625-86d4-4dc1ccfc1ad8",
   "metadata": {},
   "outputs": [],
   "source": [
    "myFloat = 1.343323"
   ]
  },
  {
   "cell_type": "code",
   "execution_count": 9,
   "id": "b48f6c06-9f8a-4138-b624-aee8547990ff",
   "metadata": {},
   "outputs": [
    {
     "data": {
      "text/plain": [
       "float"
      ]
     },
     "execution_count": 9,
     "metadata": {},
     "output_type": "execute_result"
    }
   ],
   "source": [
    "type(myFloat)"
   ]
  },
  {
   "cell_type": "code",
   "execution_count": 10,
   "id": "d2917abd-9fd3-4588-8e23-70879a323340",
   "metadata": {},
   "outputs": [
    {
     "data": {
      "text/plain": [
       "32"
      ]
     },
     "execution_count": 10,
     "metadata": {},
     "output_type": "execute_result"
    }
   ],
   "source": [
    "2 ** 5 # 2 * 2 * 2 * 2 * 2 ile aynıdır yani ** ifadesi üs anlamına gelir pythonda"
   ]
  },
  {
   "cell_type": "code",
   "execution_count": 11,
   "id": "a449b851-561b-4f70-adcf-d6ca591005c8",
   "metadata": {},
   "outputs": [
    {
     "data": {
      "text/plain": [
       "1"
      ]
     },
     "execution_count": 11,
     "metadata": {},
     "output_type": "execute_result"
    }
   ],
   "source": [
    "10 % 3 # remainder kalan bulma mod alma işlemini ifade eder"
   ]
  },
  {
   "cell_type": "markdown",
   "id": "0c92344a-27c5-4d8b-a9ef-a30d38213e28",
   "metadata": {},
   "source": [
    "## stringlere bakalım "
   ]
  },
  {
   "cell_type": "code",
   "execution_count": 24,
   "id": "d369bd7b-8be2-4a03-85bc-901b0cff3211",
   "metadata": {},
   "outputs": [
    {
     "data": {
      "text/plain": [
       "'hello world'"
      ]
     },
     "execution_count": 24,
     "metadata": {},
     "output_type": "execute_result"
    }
   ],
   "source": [
    "\"hello world\"#stringler yani metinler daima çift tırnak arasına yazılır"
   ]
  },
  {
   "cell_type": "code",
   "execution_count": 26,
   "id": "d73428d2-a669-432c-b898-a3537f5a6584",
   "metadata": {},
   "outputs": [],
   "source": [
    "#print çıktı verme metodu"
   ]
  },
  {
   "cell_type": "code",
   "execution_count": 28,
   "id": "80d576b5-608d-4c06-a44b-4948e37a0709",
   "metadata": {},
   "outputs": [
    {
     "name": "stdout",
     "output_type": "stream",
     "text": [
      "hello world\n"
     ]
    }
   ],
   "source": [
    "print(\"hello world\")"
   ]
  },
  {
   "cell_type": "code",
   "execution_count": 30,
   "id": "b8227439-9817-46c4-aa4d-3a7f49d9bb65",
   "metadata": {},
   "outputs": [
    {
     "name": "stdout",
     "output_type": "stream",
     "text": [
      "9\n"
     ]
    }
   ],
   "source": [
    "print(5+4)"
   ]
  },
  {
   "cell_type": "code",
   "execution_count": 36,
   "id": "6679227a-e658-49e6-9936-efbb503f78dc",
   "metadata": {},
   "outputs": [],
   "source": [
    "name = \"mehmet\"#str tanımlama önüne tür belirtilmez örn java gibi"
   ]
  },
  {
   "cell_type": "code",
   "execution_count": 38,
   "id": "191cdd76-7e44-4dd9-8b16-ec2c8ce83401",
   "metadata": {},
   "outputs": [
    {
     "data": {
      "text/plain": [
       "str"
      ]
     },
     "execution_count": 38,
     "metadata": {},
     "output_type": "execute_result"
    }
   ],
   "source": [
    "type(name)"
   ]
  },
  {
   "cell_type": "code",
   "execution_count": 40,
   "id": "9a650765-16f5-47d0-acd6-8fbae184844a",
   "metadata": {},
   "outputs": [
    {
     "data": {
      "text/plain": [
       "'mehmet restoran'"
      ]
     },
     "execution_count": 40,
     "metadata": {},
     "output_type": "execute_result"
    }
   ],
   "source": [
    "'mehmet restoran'"
   ]
  },
  {
   "cell_type": "code",
   "execution_count": 42,
   "id": "38a6d79d-2c30-40e1-9537-dedbdbce37b4",
   "metadata": {},
   "outputs": [
    {
     "data": {
      "text/plain": [
       "'mehmet restoran'"
      ]
     },
     "execution_count": 42,
     "metadata": {},
     "output_type": "execute_result"
    }
   ],
   "source": [
    "\"mehmet restoran\""
   ]
  },
  {
   "cell_type": "code",
   "execution_count": 44,
   "id": "e1e73d09-fa36-43be-8ec2-281db4d7e9aa",
   "metadata": {},
   "outputs": [],
   "source": [
    "#çift veya tek tırnakla tanımlanabilir ama daima çift tırnakla string tanımlama daha mantıklı"
   ]
  },
  {
   "cell_type": "code",
   "execution_count": 46,
   "id": "fe9568c0-9fde-430b-9874-49aa3c54865a",
   "metadata": {},
   "outputs": [],
   "source": [
    "name = \"mehmet can gülseroğlu\""
   ]
  },
  {
   "cell_type": "code",
   "execution_count": 54,
   "id": "2570434d-28e5-41b4-bb8f-41adfd5dce5c",
   "metadata": {},
   "outputs": [
    {
     "data": {
      "text/plain": [
       "'Mehmet can gülseroğlu'"
      ]
     },
     "execution_count": 54,
     "metadata": {},
     "output_type": "execute_result"
    }
   ],
   "source": [
    "name.capitalize() # string ifade. dersek sonuçta string olduğu için bu stringlerin metodlarını getirir örneğin capitalize() stringin ilk harfini büyütür\n",
    "#fonksiyon sonundaki () ifadesi o fonksiyonu çalıştır anlamına gelir. "
   ]
  },
  {
   "cell_type": "markdown",
   "id": "c79d981c-47a0-4e32-b185-0b88b03190dd",
   "metadata": {},
   "source": [
    "## string metodları"
   ]
  },
  {
   "cell_type": "code",
   "execution_count": 69,
   "id": "60847ce2-307a-4543-976d-dfebf6835a0e",
   "metadata": {},
   "outputs": [
    {
     "data": {
      "text/plain": [
       "1"
      ]
     },
     "execution_count": 69,
     "metadata": {},
     "output_type": "execute_result"
    }
   ],
   "source": [
    "name.count(\"a\")#içine yazılan şeyden string ifadede kaç adet var onu döndürür"
   ]
  },
  {
   "cell_type": "code",
   "execution_count": 72,
   "id": "b7b33fe3-e45a-4d06-91a0-284b55992545",
   "metadata": {},
   "outputs": [
    {
     "data": {
      "text/plain": [
       "0"
      ]
     },
     "execution_count": 72,
     "metadata": {},
     "output_type": "execute_result"
    }
   ],
   "source": [
    "name.count(\"b\")"
   ]
  },
  {
   "cell_type": "code",
   "execution_count": 74,
   "id": "d53ed22c-735a-4ce5-bc17-0cc127cf2eae",
   "metadata": {},
   "outputs": [
    {
     "data": {
      "text/plain": [
       "'MEHMET CAN GÜLSEROĞLU'"
      ]
     },
     "execution_count": 74,
     "metadata": {},
     "output_type": "execute_result"
    }
   ],
   "source": [
    "name.upper()#tüm harfleri büyük harf yapar "
   ]
  },
  {
   "cell_type": "code",
   "execution_count": 76,
   "id": "aa339351-edb0-42e7-89ce-4384763c8acc",
   "metadata": {},
   "outputs": [
    {
     "name": "stdout",
     "output_type": "stream",
     "text": [
      "MEHMET CAN GÜLSEROĞLU\n"
     ]
    }
   ],
   "source": [
    "print(name.upper())"
   ]
  },
  {
   "cell_type": "code",
   "execution_count": 90,
   "id": "e4a9049c-a5d7-4e98-b7ee-7d08a8a5c3a5",
   "metadata": {},
   "outputs": [],
   "source": [
    "#len() içine verilen şeyin karakter uzunluğunu verir length kelimesinden gelir"
   ]
  },
  {
   "cell_type": "code",
   "execution_count": 80,
   "id": "5275e7f0-452b-4f1e-9035-46e27cf635fa",
   "metadata": {},
   "outputs": [
    {
     "data": {
      "text/plain": [
       "21"
      ]
     },
     "execution_count": 80,
     "metadata": {},
     "output_type": "execute_result"
    }
   ],
   "source": [
    "len(name)"
   ]
  },
  {
   "cell_type": "code",
   "execution_count": 92,
   "id": "8bae8920-a58c-463f-a58e-7e353aff310e",
   "metadata": {},
   "outputs": [],
   "source": [
    "#\\n new line yani alt satıra geçmeye yarar = escape characters"
   ]
  },
  {
   "cell_type": "code",
   "execution_count": 96,
   "id": "a7cf2fd2-7db7-48c4-9425-42847b78a3da",
   "metadata": {},
   "outputs": [
    {
     "name": "stdout",
     "output_type": "stream",
     "text": [
      "mehmet can \n",
      "gülseroğlu\n"
     ]
    }
   ],
   "source": [
    "print(\"mehmet can \\ngülseroğlu\")"
   ]
  }
 ],
 "metadata": {
  "kernelspec": {
   "display_name": "Python [conda env:base] *",
   "language": "python",
   "name": "conda-base-py"
  },
  "language_info": {
   "codemirror_mode": {
    "name": "ipython",
    "version": 3
   },
   "file_extension": ".py",
   "mimetype": "text/x-python",
   "name": "python",
   "nbconvert_exporter": "python",
   "pygments_lexer": "ipython3",
   "version": "3.12.7"
  }
 },
 "nbformat": 4,
 "nbformat_minor": 5
}
