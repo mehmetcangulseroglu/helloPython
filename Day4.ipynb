{
 "cells": [
  {
   "cell_type": "markdown",
   "id": "526923d4-42c8-46de-b62f-df6c6cdb7a11",
   "metadata": {},
   "source": [
    "## sözlükler / dictionaries = {} yapısı kullanarak oluşturulur"
   ]
  },
  {
   "cell_type": "code",
   "execution_count": 219,
   "id": "a90baf1f-7a9b-4488-a795-0831306bfa0d",
   "metadata": {},
   "outputs": [],
   "source": [
    "#yeni bir veri yapısı göreceğiz listlerden sonra"
   ]
  },
  {
   "cell_type": "code",
   "execution_count": 221,
   "id": "b481584e-fd6e-498d-a316-873936b80f37",
   "metadata": {},
   "outputs": [],
   "source": [
    "#dictonary=sözlük"
   ]
  },
  {
   "cell_type": "code",
   "execution_count": 223,
   "id": "76daff56-0570-427f-ba51-d1e28d12c332",
   "metadata": {},
   "outputs": [],
   "source": [
    "# key value ilişkisi kullanırız listelereden farkı budur"
   ]
  },
  {
   "cell_type": "code",
   "execution_count": 1,
   "id": "5f96da29-1874-45c7-866c-26bbea8be6f6",
   "metadata": {},
   "outputs": [],
   "source": [
    "fruitList=[\"banana\",\"apple\"]#liste örneği"
   ]
  },
  {
   "cell_type": "code",
   "execution_count": 229,
   "id": "f6221877-8de0-418b-a94c-db7967b3d871",
   "metadata": {},
   "outputs": [],
   "source": [
    "calorieList=[100,150]"
   ]
  },
  {
   "cell_type": "code",
   "execution_count": 231,
   "id": "e064a0d1-9ea1-4e54-83e2-6139618d1da1",
   "metadata": {},
   "outputs": [
    {
     "data": {
      "text/plain": [
       "'banana'"
      ]
     },
     "execution_count": 231,
     "metadata": {},
     "output_type": "execute_result"
    }
   ],
   "source": [
    "fruitList[0]"
   ]
  },
  {
   "cell_type": "code",
   "execution_count": 233,
   "id": "936aec52-1658-4cad-b367-10e8779368ab",
   "metadata": {},
   "outputs": [
    {
     "data": {
      "text/plain": [
       "100"
      ]
     },
     "execution_count": 233,
     "metadata": {},
     "output_type": "execute_result"
    }
   ],
   "source": [
    "calorieList[0]"
   ]
  },
  {
   "cell_type": "code",
   "execution_count": 235,
   "id": "a2f4b3ed-0f1c-4a5f-b4a2-2cb861e4ffe9",
   "metadata": {},
   "outputs": [],
   "source": [
    "#şimdiye kadar bunları öğrendik ama istiyoruz ki muz yazınca 100 versin mesela o zaman sözlük kullanacaz çünkü key - value kullanıyor dedik"
   ]
  },
  {
   "cell_type": "code",
   "execution_count": 7,
   "id": "1ba87a8e-4a3c-4fe4-b264-4f55361d9c5f",
   "metadata": {},
   "outputs": [],
   "source": [
    "fitnessDictionary = {\"banana\":100,\"apple\":200,\"peach\":300}"
   ]
  },
  {
   "cell_type": "code",
   "execution_count": 9,
   "id": "a706896d-142f-43cd-973d-b085c6ae3858",
   "metadata": {},
   "outputs": [
    {
     "data": {
      "text/plain": [
       "dict"
      ]
     },
     "execution_count": 9,
     "metadata": {},
     "output_type": "execute_result"
    }
   ],
   "source": [
    "type(fitnessDictionary)#sözlük olduğunu belirtir"
   ]
  },
  {
   "cell_type": "code",
   "execution_count": 11,
   "id": "aef07a45-2766-427a-ae63-3f7374fe4592",
   "metadata": {},
   "outputs": [],
   "source": [
    "# sözlüklerde index mantığı yok gelip fitnessDictionary{1} yapamazsın burda key value ilişkisi var dedik\n",
    "#yani yapı sözlük yapısıysa süslü parantez vardır ve index mantığı kullanılamaz\n",
    "#çok önemli = yalnızca ilk yazdığın yani key leri yazarak erişebilirsin sözlükteki yapılara"
   ]
  },
  {
   "cell_type": "code",
   "execution_count": 13,
   "id": "2cad62d9-23d6-46cc-8a85-95ad7e74f7c6",
   "metadata": {},
   "outputs": [
    {
     "data": {
      "text/plain": [
       "100"
      ]
     },
     "execution_count": 13,
     "metadata": {},
     "output_type": "execute_result"
    }
   ],
   "source": [
    "fitnessDictionary[\"banana\"]"
   ]
  },
  {
   "cell_type": "code",
   "execution_count": 15,
   "id": "731e25b5-fb78-4b37-8176-b3bde71effe9",
   "metadata": {},
   "outputs": [
    {
     "data": {
      "text/plain": [
       "300"
      ]
     },
     "execution_count": 15,
     "metadata": {},
     "output_type": "execute_result"
    }
   ],
   "source": [
    "fitnessDictionary[\"peach\"]"
   ]
  },
  {
   "cell_type": "code",
   "execution_count": 19,
   "id": "4b908aa6-cedb-490b-9dcd-998b8b4c9baa",
   "metadata": {},
   "outputs": [
    {
     "data": {
      "text/plain": [
       "dict_keys(['banana', 'apple', 'peach'])"
      ]
     },
     "execution_count": 19,
     "metadata": {},
     "output_type": "execute_result"
    }
   ],
   "source": [
    "fitnessDictionary.keys()#listelerle ilgili . diyince gelenlere bakalım \n",
    "#keys() ilgili sözlüğün keylerini getirir"
   ]
  },
  {
   "cell_type": "code",
   "execution_count": 21,
   "id": "9b751f3b-03d0-4c0c-ac18-c4ded15dce5e",
   "metadata": {},
   "outputs": [
    {
     "data": {
      "text/plain": [
       "dict_values([100, 200, 300])"
      ]
     },
     "execution_count": 21,
     "metadata": {},
     "output_type": "execute_result"
    }
   ],
   "source": [
    "fitnessDictionary.values()#ilgili sözlüğün sadece value değerlerini getirir"
   ]
  },
  {
   "cell_type": "code",
   "execution_count": 23,
   "id": "cf55d33e-cc2b-48d6-8a0f-0444fdaf1846",
   "metadata": {},
   "outputs": [
    {
     "data": {
      "text/plain": [
       "dict_values"
      ]
     },
     "execution_count": 23,
     "metadata": {},
     "output_type": "execute_result"
    }
   ],
   "source": [
    "type(fitnessDictionary.values())"
   ]
  },
  {
   "cell_type": "code",
   "execution_count": 31,
   "id": "91af19f4-6555-4350-874d-a392a65fe902",
   "metadata": {},
   "outputs": [],
   "source": [
    "#bu bir sözlük yapısı ve ben bunu listeye çevirmek istersem düz mantık liste parantezine alabilirim çünkü atıyorum \n",
    "#sözlükteki key veya value değerleri bana liste şeklinde lazım olabilir öyle kullanmam gerekebilir\n",
    "#çünkü belkide o değerleri toplamam gerekecek ama sözlük olduğu için olmayacaktı"
   ]
  },
  {
   "cell_type": "code",
   "execution_count": 29,
   "id": "a637a39e-8612-4cbc-940b-ea9765ad7544",
   "metadata": {},
   "outputs": [
    {
     "data": {
      "text/plain": [
       "[100, 200, 300]"
      ]
     },
     "execution_count": 29,
     "metadata": {},
     "output_type": "execute_result"
    }
   ],
   "source": [
    "list(fitnessDictionary.values())"
   ]
  },
  {
   "cell_type": "code",
   "execution_count": 33,
   "id": "705dd990-e0fe-475f-b104-2e78b3a76be3",
   "metadata": {},
   "outputs": [],
   "source": [
    "#sözlükteki eleman değerleri değiştirilebilir"
   ]
  },
  {
   "cell_type": "code",
   "execution_count": 42,
   "id": "cf368a92-1696-458e-b1fa-51ecb311c547",
   "metadata": {},
   "outputs": [],
   "source": [
    "fitnessDictionary[\"banana\"]=200#listelerde değiştirsek köşeli parantez içinde index belirtiyorduk\n",
    "#sözlüklerde köşeli parantez içinde key değerini belirtiyoruz"
   ]
  },
  {
   "cell_type": "code",
   "execution_count": 44,
   "id": "94eea79e-5b6d-4a19-87d0-99de8b6e9384",
   "metadata": {},
   "outputs": [
    {
     "name": "stdout",
     "output_type": "stream",
     "text": [
      "{'banana': 200, 'apple': 200, 'peach': 300}\n"
     ]
    }
   ],
   "source": [
    "print(fitnessDictionary)"
   ]
  },
  {
   "cell_type": "code",
   "execution_count": 46,
   "id": "b6c7468f-b4fb-4ed8-bfc1-5d35895e4084",
   "metadata": {},
   "outputs": [],
   "source": [
    "#sözlüğe yeni eleman eklemek . diyince add gibi bir komut yok o zaman manuel ekleniyor"
   ]
  },
  {
   "cell_type": "code",
   "execution_count": 50,
   "id": "788094ed-56a3-4072-8143-e6499cc3696f",
   "metadata": {},
   "outputs": [],
   "source": [
    "fitnessDictionary[\"cucumber\"]=450"
   ]
  },
  {
   "cell_type": "code",
   "execution_count": 57,
   "id": "15733afe-d9d4-4363-8ca1-0103e631979a",
   "metadata": {},
   "outputs": [
    {
     "name": "stdout",
     "output_type": "stream",
     "text": [
      "{'banana': 200, 'apple': 200, 'peach': 300, 'cucumber': 450}\n"
     ]
    }
   ],
   "source": [
    "print(fitnessDictionary)#artık eklendi cucumber değeri"
   ]
  },
  {
   "cell_type": "code",
   "execution_count": 60,
   "id": "75a888eb-ecb2-467c-9242-25fc38b60524",
   "metadata": {},
   "outputs": [],
   "source": [
    "#değeri yazıp getirebildik ama ayrıca get() ile de getirebilirdik"
   ]
  },
  {
   "cell_type": "code",
   "execution_count": 62,
   "id": "f4cb05a0-e166-484d-b065-1dee67060c9d",
   "metadata": {},
   "outputs": [
    {
     "data": {
      "text/plain": [
       "200"
      ]
     },
     "execution_count": 62,
     "metadata": {},
     "output_type": "execute_result"
    }
   ],
   "source": [
    "fitnessDictionary.get(\"apple\",0)#çalıştırınca appleın değeri olan 150 yi verecek ama apple \n",
    "#sözlükte olmasaydı o zaman yazdığımız değer olan 0 verecekti get() özelliği bu "
   ]
  },
  {
   "cell_type": "code",
   "execution_count": 66,
   "id": "ea5b98fc-0876-4ab8-bacb-87d3319b86ab",
   "metadata": {},
   "outputs": [],
   "source": [
    "#üstte yaptığımız gibi sözlüklerde illa ki keyler str valuelar int olacak diye bir kural yok örnekte görelim\n",
    "#ama ilk yazılan her zaman key oluyor onu unutma"
   ]
  },
  {
   "cell_type": "code",
   "execution_count": 74,
   "id": "ecf8782f-fb5c-4b0a-b641-9ab1964713d0",
   "metadata": {},
   "outputs": [],
   "source": [
    "myDictionary={100:\"a\",200:\"b\"}#int-str sözlük örneği"
   ]
  },
  {
   "cell_type": "code",
   "execution_count": 76,
   "id": "958cf466-128d-49c0-bdce-94d75b43b17d",
   "metadata": {},
   "outputs": [
    {
     "data": {
      "text/plain": [
       "'a'"
      ]
     },
     "execution_count": 76,
     "metadata": {},
     "output_type": "execute_result"
    }
   ],
   "source": [
    "myDictionary[100]"
   ]
  },
  {
   "cell_type": "code",
   "execution_count": 80,
   "id": "cfa9c9f6-3e18-475d-8b06-ce90c1eab054",
   "metadata": {},
   "outputs": [],
   "source": [
    "myDictionary={\"key1\":\"value1\",\"key2\":\"value2\"}#str-str sözlük örneği"
   ]
  },
  {
   "cell_type": "markdown",
   "id": "d5461989-8469-44c0-9117-56b0044274f9",
   "metadata": {},
   "source": [
    "## set yapısı "
   ]
  },
  {
   "cell_type": "markdown",
   "id": "1c60da6a-fe71-4fcd-8a9a-ffa7714be0d3",
   "metadata": {},
   "source": [
    "## yine {} kullanılır sözlük gibi ama burda key-value yok direkt yazıyoruz ve eleman tekrarı yok yine burda da index mantığı yok o yönden de sözlüklere benziyor"
   ]
  },
  {
   "cell_type": "code",
   "execution_count": 86,
   "id": "48bb465e-6e53-4930-9ef3-2b85b927b2fe",
   "metadata": {},
   "outputs": [],
   "source": [
    "#yeni bir veri yapısına giriş yapıyoruz yine bu yapı da bir koleksiyon içerisinde birden fazla veri barındırabilen"
   ]
  },
  {
   "cell_type": "code",
   "execution_count": 88,
   "id": "0169fdeb-46b0-40dc-be2d-f8267bc9d3ff",
   "metadata": {},
   "outputs": [],
   "source": [
    "#unique yani tekil elemanlar ve sıra önemli değil"
   ]
  },
  {
   "cell_type": "code",
   "execution_count": 94,
   "id": "458ac63f-7d0c-4584-807c-61fd36c7cabe",
   "metadata": {},
   "outputs": [],
   "source": [
    "myList=[10,20,30,10,20,40,10,20,40]#mesela listede önemli değil aynı elemandan kaç tane olduğu"
   ]
  },
  {
   "cell_type": "code",
   "execution_count": 96,
   "id": "18c0150a-e8c6-4e91-bf5b-2e7cb575d649",
   "metadata": {},
   "outputs": [
    {
     "data": {
      "text/plain": [
       "9"
      ]
     },
     "execution_count": 96,
     "metadata": {},
     "output_type": "execute_result"
    }
   ],
   "source": [
    "len(myList)"
   ]
  },
  {
   "cell_type": "code",
   "execution_count": 100,
   "id": "74ffd197-fff9-4628-aca3-f5044b395c15",
   "metadata": {},
   "outputs": [],
   "source": [
    "#öncelikle bu list yapısını sete çevirelim\n",
    "mySet=set(myList)"
   ]
  },
  {
   "cell_type": "code",
   "execution_count": 103,
   "id": "c8c71fe8-92f5-446e-82a9-7bb2bb13ddc0",
   "metadata": {},
   "outputs": [
    {
     "name": "stdout",
     "output_type": "stream",
     "text": [
      "{40, 10, 20, 30}\n"
     ]
    }
   ],
   "source": [
    "print(mySet)"
   ]
  },
  {
   "cell_type": "code",
   "execution_count": 105,
   "id": "51fadd89-1a49-4d85-abdd-906d2d146e45",
   "metadata": {},
   "outputs": [],
   "source": [
    "#set yapısına çevirdik ve aynı elemanlar kalktı her eleman 1 kere geldi"
   ]
  },
  {
   "cell_type": "code",
   "execution_count": 108,
   "id": "b95991c8-515c-482f-a114-0ccdd3e97d4e",
   "metadata": {},
   "outputs": [],
   "source": [
    "mySet={10,20,30,40,10}#sözlük oluşturma"
   ]
  },
  {
   "cell_type": "code",
   "execution_count": 110,
   "id": "9de8116c-b156-4163-a6ef-3509ba7d6952",
   "metadata": {},
   "outputs": [
    {
     "name": "stdout",
     "output_type": "stream",
     "text": [
      "{40, 10, 20, 30}\n"
     ]
    }
   ],
   "source": [
    "print(mySet)"
   ]
  },
  {
   "cell_type": "code",
   "execution_count": 112,
   "id": "29142485-428f-4c90-82c0-6c4f5c521e6c",
   "metadata": {},
   "outputs": [],
   "source": [
    "mySet.add(50)"
   ]
  },
  {
   "cell_type": "code",
   "execution_count": 115,
   "id": "84440be1-35b4-4ebe-a8f4-09237500484f",
   "metadata": {},
   "outputs": [],
   "source": [
    "mySet2={10,40,45,98}"
   ]
  },
  {
   "cell_type": "code",
   "execution_count": 119,
   "id": "c16b0f3e-3ac2-4e78-93c3-e8a9fb608a9b",
   "metadata": {},
   "outputs": [
    {
     "data": {
      "text/plain": [
       "{10, 20, 30, 40, 45, 50, 98}"
      ]
     },
     "execution_count": 119,
     "metadata": {},
     "output_type": "execute_result"
    }
   ],
   "source": [
    "mySet.union(mySet2)#2 seti birleştirir"
   ]
  },
  {
   "cell_type": "code",
   "execution_count": 126,
   "id": "2c1908da-cec3-49b0-924f-9581fd1049fa",
   "metadata": {},
   "outputs": [
    {
     "data": {
      "text/plain": [
       "{10, 40}"
      ]
     },
     "execution_count": 126,
     "metadata": {},
     "output_type": "execute_result"
    }
   ],
   "source": [
    "mySet.intersection(mySet2)#2 setin kesişimini döndürür"
   ]
  },
  {
   "cell_type": "code",
   "execution_count": 129,
   "id": "2b9f1ef0-8108-413e-b621-bf5a831a3e1f",
   "metadata": {},
   "outputs": [
    {
     "data": {
      "text/plain": [
       "dict"
      ]
     },
     "execution_count": 129,
     "metadata": {},
     "output_type": "execute_result"
    }
   ],
   "source": [
    "#boş bir set nasıl oluştururum => emptySet={} ise ee boş sözlük nasıl oluşturacam aynı syntax mı ?\n",
    "emptySet={}\n",
    "type(emptySet)"
   ]
  },
  {
   "cell_type": "code",
   "execution_count": 131,
   "id": "9d2d8f1e-3c77-451b-a617-62f10338f36e",
   "metadata": {},
   "outputs": [
    {
     "data": {
      "text/plain": [
       "set"
      ]
     },
     "execution_count": 131,
     "metadata": {},
     "output_type": "execute_result"
    }
   ],
   "source": [
    "#python bunu sözlük olarak kabul ediyor.\n",
    "emptySet=set()#o yüzden boş set oluşturma şeklimiz bu olacak ...ÖNEMLİ...\n",
    "type(emptySet)"
   ]
  },
  {
   "cell_type": "code",
   "execution_count": 133,
   "id": "4d53d31c-633b-4249-9154-55ea9f8bae5e",
   "metadata": {},
   "outputs": [],
   "source": [
    "#daha sonra bu boş sete eleman eklenebilir...\n",
    "emptySet.add(10)"
   ]
  },
  {
   "cell_type": "markdown",
   "id": "e6420a77-a778-49c0-9936-9164842e7394",
   "metadata": {},
   "source": [
    "print(emptySet)"
   ]
  },
  {
   "cell_type": "code",
   "execution_count": 137,
   "id": "875c9949-aa75-4629-bd6b-58b876981d79",
   "metadata": {},
   "outputs": [],
   "source": [
    "#boş listeyi de biz böyle yaptık hep => liste =[] ama liste=list() olarak yapıp append ile eleman da ekleyebiliriz "
   ]
  },
  {
   "cell_type": "code",
   "execution_count": 141,
   "id": "95161489-79db-40eb-b930-bac088835727",
   "metadata": {},
   "outputs": [],
   "source": [
    "#boş sözlüğü de bu yapıda oluşturabilirim boşSözlük=dict() ile\n",
    "#ve boşSözlük[\"a\"]=100 diyip elemanları ekleyebilirim"
   ]
  },
  {
   "cell_type": "markdown",
   "id": "7a0a3fc0-4b1b-4e32-b70a-2789e124b837",
   "metadata": {},
   "source": [
    "### tuple - tuple yapısı () normal parantezle oluşturulur"
   ]
  },
  {
   "cell_type": "code",
   "execution_count": 144,
   "id": "4d4e2ce6-989a-48ad-a7cd-a5326e437aff",
   "metadata": {},
   "outputs": [],
   "source": [
    "#yeni bir veri yapısına geçelim nerdeyse liste yapısıyla aynı..."
   ]
  },
  {
   "cell_type": "code",
   "execution_count": 147,
   "id": "be8fe54b-8efd-4695-8b0f-31c343d4e808",
   "metadata": {},
   "outputs": [],
   "source": [
    "myTuple=(10,\"a\",233,\"b\")"
   ]
  },
  {
   "cell_type": "code",
   "execution_count": 149,
   "id": "0f928088-9302-4c71-b6b5-8fa1356c13ce",
   "metadata": {},
   "outputs": [
    {
     "name": "stdout",
     "output_type": "stream",
     "text": [
      "<class 'tuple'>\n"
     ]
    }
   ],
   "source": [
    "print(type(myTuple))"
   ]
  },
  {
   "cell_type": "code",
   "execution_count": 153,
   "id": "3c446bee-d5b2-488b-a62d-a2dd98dfce82",
   "metadata": {},
   "outputs": [
    {
     "data": {
      "text/plain": [
       "10"
      ]
     },
     "execution_count": 153,
     "metadata": {},
     "output_type": "execute_result"
    }
   ],
   "source": [
    "myTuple[0] #yapınca elemanı getirir ama elemanı değiştiremeyiz tupleda\n",
    "#myTuple[0]=199 yapamayız eleman ekleyemeyiz . diyince 2 tane özelliği gelir başka bişeyi yok zaten "
   ]
  },
  {
   "cell_type": "markdown",
   "id": "03ecfc8c-dc39-45ac-b4d7-a038fc3bfdaa",
   "metadata": {},
   "source": [
    "## boolean"
   ]
  },
  {
   "cell_type": "code",
   "execution_count": 164,
   "id": "5ef58d8f-b4e7-4ae8-9daf-a00baa2144e1",
   "metadata": {},
   "outputs": [],
   "source": [
    "# en kolay veri tipimiz 2 tane değeri var True veya False büyük harfle yazılır ilk harfleri"
   ]
  },
  {
   "cell_type": "code",
   "execution_count": 166,
   "id": "c4e56f57-6774-4207-8546-8bc42fe44186",
   "metadata": {},
   "outputs": [],
   "source": [
    "myBoolean = True"
   ]
  },
  {
   "cell_type": "code",
   "execution_count": 168,
   "id": "14b8c12e-b554-4a80-8825-85f9318ac263",
   "metadata": {},
   "outputs": [
    {
     "data": {
      "text/plain": [
       "bool"
      ]
     },
     "execution_count": 168,
     "metadata": {},
     "output_type": "execute_result"
    }
   ],
   "source": [
    "type(myBoolean)"
   ]
  },
  {
   "cell_type": "code",
   "execution_count": 170,
   "id": "c29690fc-c7d5-43a4-be7f-f09b4d1a388c",
   "metadata": {},
   "outputs": [
    {
     "name": "stdin",
     "output_type": "stream",
     "text": [
      "yaşınızı girin 17\n"
     ]
    }
   ],
   "source": [
    "yas=input(\"yaşınızı girin\")"
   ]
  },
  {
   "cell_type": "code",
   "execution_count": 172,
   "id": "e33fb75c-22d7-4fdb-946c-23bb1c6d6a96",
   "metadata": {},
   "outputs": [
    {
     "name": "stdout",
     "output_type": "stream",
     "text": [
      "17\n"
     ]
    }
   ],
   "source": [
    "print(yas)"
   ]
  },
  {
   "cell_type": "code",
   "execution_count": 180,
   "id": "5193a143-348f-4ccb-882a-4872f242b29b",
   "metadata": {},
   "outputs": [
    {
     "data": {
      "text/plain": [
       "False"
      ]
     },
     "execution_count": 180,
     "metadata": {},
     "output_type": "execute_result"
    }
   ],
   "source": [
    "int(yas)>18#direkt yas > 18 yapamayız biri str biri int"
   ]
  }
 ],
 "metadata": {
  "kernelspec": {
   "display_name": "Python [conda env:base] *",
   "language": "python",
   "name": "conda-base-py"
  },
  "language_info": {
   "codemirror_mode": {
    "name": "ipython",
    "version": 3
   },
   "file_extension": ".py",
   "mimetype": "text/x-python",
   "name": "python",
   "nbconvert_exporter": "python",
   "pygments_lexer": "ipython3",
   "version": "3.12.7"
  }
 },
 "nbformat": 4,
 "nbformat_minor": 5
}
